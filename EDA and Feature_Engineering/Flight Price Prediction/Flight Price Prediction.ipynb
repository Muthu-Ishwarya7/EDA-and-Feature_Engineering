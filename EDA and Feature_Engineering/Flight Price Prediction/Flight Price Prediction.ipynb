{
 "cells": [
  {
   "cell_type": "markdown",
   "id": "ea50200b",
   "metadata": {},
   "source": [
    "# Flight Price Prediction(EDA + Feature Engineering)"
   ]
  },
  {
   "cell_type": "markdown",
   "id": "25e3559b",
   "metadata": {},
   "source": [
    "# About Dataset\n",
    "## INTRODUCTION\n",
    "The objective of the study is to analyze the flight booking dataset obtained from the “Ease My Trip” website and to conduct various statistical hypothesis tests in order to get meaningful information from it. The 'Linear Regression statistical algorithm would be used to train the dataset and predict a continuous target variable. 'Easemytrip' is an internet platform for booking flight tickets, and hence a platform that potential passengers use to buy tickets. A thorough study of the data will aid in the discovery of valuable insights that will be of enormous value to passengers.\n",
    "\n",
    "## Context:\n",
    "Predicting the Fare of the flight has never been an easy task.\n",
    "\n",
    "## Content:\n",
    "What's inside is more than just rows and columns. Here we have got some collections including the destination to Route, meal included, and much more"
   ]
  },
  {
   "cell_type": "code",
   "execution_count": 1,
   "id": "ff7030a0",
   "metadata": {},
   "outputs": [],
   "source": [
    "# importing basics libraries\n",
    "import pandas as pd\n",
    "import numpy as np\n",
    "import matplotlib.pyplot as plt\n",
    "import seaborn as sns\n",
    "%matplotlib inline     \n",
    "# without plt.show()"
   ]
  },
  {
   "cell_type": "code",
   "execution_count": 2,
   "id": "df003ae2",
   "metadata": {
    "scrolled": false
   },
   "outputs": [
    {
     "data": {
      "text/html": [
       "<div>\n",
       "<style scoped>\n",
       "    .dataframe tbody tr th:only-of-type {\n",
       "        vertical-align: middle;\n",
       "    }\n",
       "\n",
       "    .dataframe tbody tr th {\n",
       "        vertical-align: top;\n",
       "    }\n",
       "\n",
       "    .dataframe thead th {\n",
       "        text-align: right;\n",
       "    }\n",
       "</style>\n",
       "<table border=\"1\" class=\"dataframe\">\n",
       "  <thead>\n",
       "    <tr style=\"text-align: right;\">\n",
       "      <th></th>\n",
       "      <th>Airline</th>\n",
       "      <th>Date_of_Journey</th>\n",
       "      <th>Source</th>\n",
       "      <th>Destination</th>\n",
       "      <th>Route</th>\n",
       "      <th>Dep_Time</th>\n",
       "      <th>Arrival_Time</th>\n",
       "      <th>Duration</th>\n",
       "      <th>Total_Stops</th>\n",
       "      <th>Additional_Info</th>\n",
       "      <th>Price</th>\n",
       "    </tr>\n",
       "  </thead>\n",
       "  <tbody>\n",
       "    <tr>\n",
       "      <th>0</th>\n",
       "      <td>IndiGo</td>\n",
       "      <td>24/03/2019</td>\n",
       "      <td>Banglore</td>\n",
       "      <td>New Delhi</td>\n",
       "      <td>BLR → DEL</td>\n",
       "      <td>22:20</td>\n",
       "      <td>01:10 22 Mar</td>\n",
       "      <td>2h 50m</td>\n",
       "      <td>non-stop</td>\n",
       "      <td>No info</td>\n",
       "      <td>3897</td>\n",
       "    </tr>\n",
       "    <tr>\n",
       "      <th>1</th>\n",
       "      <td>Air India</td>\n",
       "      <td>1/05/2019</td>\n",
       "      <td>Kolkata</td>\n",
       "      <td>Banglore</td>\n",
       "      <td>CCU → IXR → BBI → BLR</td>\n",
       "      <td>05:50</td>\n",
       "      <td>13:15</td>\n",
       "      <td>7h 25m</td>\n",
       "      <td>2 stops</td>\n",
       "      <td>No info</td>\n",
       "      <td>7662</td>\n",
       "    </tr>\n",
       "    <tr>\n",
       "      <th>2</th>\n",
       "      <td>Jet Airways</td>\n",
       "      <td>9/06/2019</td>\n",
       "      <td>Delhi</td>\n",
       "      <td>Cochin</td>\n",
       "      <td>DEL → LKO → BOM → COK</td>\n",
       "      <td>09:25</td>\n",
       "      <td>04:25 10 Jun</td>\n",
       "      <td>19h</td>\n",
       "      <td>2 stops</td>\n",
       "      <td>No info</td>\n",
       "      <td>13882</td>\n",
       "    </tr>\n",
       "    <tr>\n",
       "      <th>3</th>\n",
       "      <td>IndiGo</td>\n",
       "      <td>12/05/2019</td>\n",
       "      <td>Kolkata</td>\n",
       "      <td>Banglore</td>\n",
       "      <td>CCU → NAG → BLR</td>\n",
       "      <td>18:05</td>\n",
       "      <td>23:30</td>\n",
       "      <td>5h 25m</td>\n",
       "      <td>1 stop</td>\n",
       "      <td>No info</td>\n",
       "      <td>6218</td>\n",
       "    </tr>\n",
       "    <tr>\n",
       "      <th>4</th>\n",
       "      <td>IndiGo</td>\n",
       "      <td>01/03/2019</td>\n",
       "      <td>Banglore</td>\n",
       "      <td>New Delhi</td>\n",
       "      <td>BLR → NAG → DEL</td>\n",
       "      <td>16:50</td>\n",
       "      <td>21:35</td>\n",
       "      <td>4h 45m</td>\n",
       "      <td>1 stop</td>\n",
       "      <td>No info</td>\n",
       "      <td>13302</td>\n",
       "    </tr>\n",
       "  </tbody>\n",
       "</table>\n",
       "</div>"
      ],
      "text/plain": [
       "       Airline Date_of_Journey    Source Destination                  Route  \\\n",
       "0       IndiGo      24/03/2019  Banglore   New Delhi              BLR → DEL   \n",
       "1    Air India       1/05/2019   Kolkata    Banglore  CCU → IXR → BBI → BLR   \n",
       "2  Jet Airways       9/06/2019     Delhi      Cochin  DEL → LKO → BOM → COK   \n",
       "3       IndiGo      12/05/2019   Kolkata    Banglore        CCU → NAG → BLR   \n",
       "4       IndiGo      01/03/2019  Banglore   New Delhi        BLR → NAG → DEL   \n",
       "\n",
       "  Dep_Time  Arrival_Time Duration Total_Stops Additional_Info  Price  \n",
       "0    22:20  01:10 22 Mar   2h 50m    non-stop         No info   3897  \n",
       "1    05:50         13:15   7h 25m     2 stops         No info   7662  \n",
       "2    09:25  04:25 10 Jun      19h     2 stops         No info  13882  \n",
       "3    18:05         23:30   5h 25m      1 stop         No info   6218  \n",
       "4    16:50         21:35   4h 45m      1 stop         No info  13302  "
      ]
     },
     "execution_count": 2,
     "metadata": {},
     "output_type": "execute_result"
    }
   ],
   "source": [
    "train_df=pd.read_excel('Data_Train.xlsx')\n",
    "train_df.head()"
   ]
  },
  {
   "cell_type": "code",
   "execution_count": 3,
   "id": "acc6a4a0",
   "metadata": {},
   "outputs": [
    {
     "data": {
      "text/plain": [
       "(10683, 11)"
      ]
     },
     "execution_count": 3,
     "metadata": {},
     "output_type": "execute_result"
    }
   ],
   "source": [
    "train_df.shape "
   ]
  },
  {
   "cell_type": "code",
   "execution_count": 4,
   "id": "ad720dff",
   "metadata": {},
   "outputs": [
    {
     "data": {
      "text/plain": [
       "['Airline',\n",
       " 'Date_of_Journey',\n",
       " 'Source',\n",
       " 'Destination',\n",
       " 'Route',\n",
       " 'Dep_Time',\n",
       " 'Arrival_Time',\n",
       " 'Duration',\n",
       " 'Total_Stops',\n",
       " 'Additional_Info',\n",
       " 'Price']"
      ]
     },
     "execution_count": 4,
     "metadata": {},
     "output_type": "execute_result"
    }
   ],
   "source": [
    "list(train_df.columns)"
   ]
  },
  {
   "cell_type": "code",
   "execution_count": 5,
   "id": "e2a9a696",
   "metadata": {},
   "outputs": [
    {
     "data": {
      "text/html": [
       "<div>\n",
       "<style scoped>\n",
       "    .dataframe tbody tr th:only-of-type {\n",
       "        vertical-align: middle;\n",
       "    }\n",
       "\n",
       "    .dataframe tbody tr th {\n",
       "        vertical-align: top;\n",
       "    }\n",
       "\n",
       "    .dataframe thead th {\n",
       "        text-align: right;\n",
       "    }\n",
       "</style>\n",
       "<table border=\"1\" class=\"dataframe\">\n",
       "  <thead>\n",
       "    <tr style=\"text-align: right;\">\n",
       "      <th></th>\n",
       "      <th>Airline</th>\n",
       "      <th>Date_of_Journey</th>\n",
       "      <th>Source</th>\n",
       "      <th>Destination</th>\n",
       "      <th>Route</th>\n",
       "      <th>Dep_Time</th>\n",
       "      <th>Arrival_Time</th>\n",
       "      <th>Duration</th>\n",
       "      <th>Total_Stops</th>\n",
       "      <th>Additional_Info</th>\n",
       "    </tr>\n",
       "  </thead>\n",
       "  <tbody>\n",
       "    <tr>\n",
       "      <th>0</th>\n",
       "      <td>Jet Airways</td>\n",
       "      <td>6/06/2019</td>\n",
       "      <td>Delhi</td>\n",
       "      <td>Cochin</td>\n",
       "      <td>DEL → BOM → COK</td>\n",
       "      <td>17:30</td>\n",
       "      <td>04:25 07 Jun</td>\n",
       "      <td>10h 55m</td>\n",
       "      <td>1 stop</td>\n",
       "      <td>No info</td>\n",
       "    </tr>\n",
       "    <tr>\n",
       "      <th>1</th>\n",
       "      <td>IndiGo</td>\n",
       "      <td>12/05/2019</td>\n",
       "      <td>Kolkata</td>\n",
       "      <td>Banglore</td>\n",
       "      <td>CCU → MAA → BLR</td>\n",
       "      <td>06:20</td>\n",
       "      <td>10:20</td>\n",
       "      <td>4h</td>\n",
       "      <td>1 stop</td>\n",
       "      <td>No info</td>\n",
       "    </tr>\n",
       "    <tr>\n",
       "      <th>2</th>\n",
       "      <td>Jet Airways</td>\n",
       "      <td>21/05/2019</td>\n",
       "      <td>Delhi</td>\n",
       "      <td>Cochin</td>\n",
       "      <td>DEL → BOM → COK</td>\n",
       "      <td>19:15</td>\n",
       "      <td>19:00 22 May</td>\n",
       "      <td>23h 45m</td>\n",
       "      <td>1 stop</td>\n",
       "      <td>In-flight meal not included</td>\n",
       "    </tr>\n",
       "    <tr>\n",
       "      <th>3</th>\n",
       "      <td>Multiple carriers</td>\n",
       "      <td>21/05/2019</td>\n",
       "      <td>Delhi</td>\n",
       "      <td>Cochin</td>\n",
       "      <td>DEL → BOM → COK</td>\n",
       "      <td>08:00</td>\n",
       "      <td>21:00</td>\n",
       "      <td>13h</td>\n",
       "      <td>1 stop</td>\n",
       "      <td>No info</td>\n",
       "    </tr>\n",
       "    <tr>\n",
       "      <th>4</th>\n",
       "      <td>Air Asia</td>\n",
       "      <td>24/06/2019</td>\n",
       "      <td>Banglore</td>\n",
       "      <td>Delhi</td>\n",
       "      <td>BLR → DEL</td>\n",
       "      <td>23:55</td>\n",
       "      <td>02:45 25 Jun</td>\n",
       "      <td>2h 50m</td>\n",
       "      <td>non-stop</td>\n",
       "      <td>No info</td>\n",
       "    </tr>\n",
       "  </tbody>\n",
       "</table>\n",
       "</div>"
      ],
      "text/plain": [
       "             Airline Date_of_Journey    Source Destination            Route  \\\n",
       "0        Jet Airways       6/06/2019     Delhi      Cochin  DEL → BOM → COK   \n",
       "1             IndiGo      12/05/2019   Kolkata    Banglore  CCU → MAA → BLR   \n",
       "2        Jet Airways      21/05/2019     Delhi      Cochin  DEL → BOM → COK   \n",
       "3  Multiple carriers      21/05/2019     Delhi      Cochin  DEL → BOM → COK   \n",
       "4           Air Asia      24/06/2019  Banglore       Delhi        BLR → DEL   \n",
       "\n",
       "  Dep_Time  Arrival_Time Duration Total_Stops              Additional_Info  \n",
       "0    17:30  04:25 07 Jun  10h 55m      1 stop                      No info  \n",
       "1    06:20         10:20       4h      1 stop                      No info  \n",
       "2    19:15  19:00 22 May  23h 45m      1 stop  In-flight meal not included  \n",
       "3    08:00         21:00      13h      1 stop                      No info  \n",
       "4    23:55  02:45 25 Jun   2h 50m    non-stop                      No info  "
      ]
     },
     "execution_count": 5,
     "metadata": {},
     "output_type": "execute_result"
    }
   ],
   "source": [
    "test_df=pd.read_excel('Test_set.xlsx')\n",
    "test_df.head()"
   ]
  },
  {
   "cell_type": "code",
   "execution_count": 6,
   "id": "2ec34e48",
   "metadata": {},
   "outputs": [
    {
     "data": {
      "text/plain": [
       "(2671, 10)"
      ]
     },
     "execution_count": 6,
     "metadata": {},
     "output_type": "execute_result"
    }
   ],
   "source": [
    "test_df.shape "
   ]
  },
  {
   "cell_type": "code",
   "execution_count": 7,
   "id": "24dabac2",
   "metadata": {
    "scrolled": false
   },
   "outputs": [
    {
     "name": "stderr",
     "output_type": "stream",
     "text": [
      "C:\\Users\\Muthu Ishwarya\\AppData\\Local\\Temp\\ipykernel_14704\\2632932177.py:1: FutureWarning: The frame.append method is deprecated and will be removed from pandas in a future version. Use pandas.concat instead.\n",
      "  final_df=train_df.append(test_df)\n"
     ]
    },
    {
     "data": {
      "text/html": [
       "<div>\n",
       "<style scoped>\n",
       "    .dataframe tbody tr th:only-of-type {\n",
       "        vertical-align: middle;\n",
       "    }\n",
       "\n",
       "    .dataframe tbody tr th {\n",
       "        vertical-align: top;\n",
       "    }\n",
       "\n",
       "    .dataframe thead th {\n",
       "        text-align: right;\n",
       "    }\n",
       "</style>\n",
       "<table border=\"1\" class=\"dataframe\">\n",
       "  <thead>\n",
       "    <tr style=\"text-align: right;\">\n",
       "      <th></th>\n",
       "      <th>Airline</th>\n",
       "      <th>Date_of_Journey</th>\n",
       "      <th>Source</th>\n",
       "      <th>Destination</th>\n",
       "      <th>Route</th>\n",
       "      <th>Dep_Time</th>\n",
       "      <th>Arrival_Time</th>\n",
       "      <th>Duration</th>\n",
       "      <th>Total_Stops</th>\n",
       "      <th>Additional_Info</th>\n",
       "      <th>Price</th>\n",
       "    </tr>\n",
       "  </thead>\n",
       "  <tbody>\n",
       "    <tr>\n",
       "      <th>0</th>\n",
       "      <td>IndiGo</td>\n",
       "      <td>24/03/2019</td>\n",
       "      <td>Banglore</td>\n",
       "      <td>New Delhi</td>\n",
       "      <td>BLR → DEL</td>\n",
       "      <td>22:20</td>\n",
       "      <td>01:10 22 Mar</td>\n",
       "      <td>2h 50m</td>\n",
       "      <td>non-stop</td>\n",
       "      <td>No info</td>\n",
       "      <td>3897.0</td>\n",
       "    </tr>\n",
       "    <tr>\n",
       "      <th>1</th>\n",
       "      <td>Air India</td>\n",
       "      <td>1/05/2019</td>\n",
       "      <td>Kolkata</td>\n",
       "      <td>Banglore</td>\n",
       "      <td>CCU → IXR → BBI → BLR</td>\n",
       "      <td>05:50</td>\n",
       "      <td>13:15</td>\n",
       "      <td>7h 25m</td>\n",
       "      <td>2 stops</td>\n",
       "      <td>No info</td>\n",
       "      <td>7662.0</td>\n",
       "    </tr>\n",
       "    <tr>\n",
       "      <th>2</th>\n",
       "      <td>Jet Airways</td>\n",
       "      <td>9/06/2019</td>\n",
       "      <td>Delhi</td>\n",
       "      <td>Cochin</td>\n",
       "      <td>DEL → LKO → BOM → COK</td>\n",
       "      <td>09:25</td>\n",
       "      <td>04:25 10 Jun</td>\n",
       "      <td>19h</td>\n",
       "      <td>2 stops</td>\n",
       "      <td>No info</td>\n",
       "      <td>13882.0</td>\n",
       "    </tr>\n",
       "    <tr>\n",
       "      <th>3</th>\n",
       "      <td>IndiGo</td>\n",
       "      <td>12/05/2019</td>\n",
       "      <td>Kolkata</td>\n",
       "      <td>Banglore</td>\n",
       "      <td>CCU → NAG → BLR</td>\n",
       "      <td>18:05</td>\n",
       "      <td>23:30</td>\n",
       "      <td>5h 25m</td>\n",
       "      <td>1 stop</td>\n",
       "      <td>No info</td>\n",
       "      <td>6218.0</td>\n",
       "    </tr>\n",
       "    <tr>\n",
       "      <th>4</th>\n",
       "      <td>IndiGo</td>\n",
       "      <td>01/03/2019</td>\n",
       "      <td>Banglore</td>\n",
       "      <td>New Delhi</td>\n",
       "      <td>BLR → NAG → DEL</td>\n",
       "      <td>16:50</td>\n",
       "      <td>21:35</td>\n",
       "      <td>4h 45m</td>\n",
       "      <td>1 stop</td>\n",
       "      <td>No info</td>\n",
       "      <td>13302.0</td>\n",
       "    </tr>\n",
       "  </tbody>\n",
       "</table>\n",
       "</div>"
      ],
      "text/plain": [
       "       Airline Date_of_Journey    Source Destination                  Route  \\\n",
       "0       IndiGo      24/03/2019  Banglore   New Delhi              BLR → DEL   \n",
       "1    Air India       1/05/2019   Kolkata    Banglore  CCU → IXR → BBI → BLR   \n",
       "2  Jet Airways       9/06/2019     Delhi      Cochin  DEL → LKO → BOM → COK   \n",
       "3       IndiGo      12/05/2019   Kolkata    Banglore        CCU → NAG → BLR   \n",
       "4       IndiGo      01/03/2019  Banglore   New Delhi        BLR → NAG → DEL   \n",
       "\n",
       "  Dep_Time  Arrival_Time Duration Total_Stops Additional_Info    Price  \n",
       "0    22:20  01:10 22 Mar   2h 50m    non-stop         No info   3897.0  \n",
       "1    05:50         13:15   7h 25m     2 stops         No info   7662.0  \n",
       "2    09:25  04:25 10 Jun      19h     2 stops         No info  13882.0  \n",
       "3    18:05         23:30   5h 25m      1 stop         No info   6218.0  \n",
       "4    16:50         21:35   4h 45m      1 stop         No info  13302.0  "
      ]
     },
     "execution_count": 7,
     "metadata": {},
     "output_type": "execute_result"
    }
   ],
   "source": [
    "final_df=train_df.append(test_df)\n",
    "final_df.head()"
   ]
  },
  {
   "cell_type": "code",
   "execution_count": 8,
   "id": "da382517",
   "metadata": {},
   "outputs": [
    {
     "data": {
      "text/html": [
       "<div>\n",
       "<style scoped>\n",
       "    .dataframe tbody tr th:only-of-type {\n",
       "        vertical-align: middle;\n",
       "    }\n",
       "\n",
       "    .dataframe tbody tr th {\n",
       "        vertical-align: top;\n",
       "    }\n",
       "\n",
       "    .dataframe thead th {\n",
       "        text-align: right;\n",
       "    }\n",
       "</style>\n",
       "<table border=\"1\" class=\"dataframe\">\n",
       "  <thead>\n",
       "    <tr style=\"text-align: right;\">\n",
       "      <th></th>\n",
       "      <th>Airline</th>\n",
       "      <th>Date_of_Journey</th>\n",
       "      <th>Source</th>\n",
       "      <th>Destination</th>\n",
       "      <th>Route</th>\n",
       "      <th>Dep_Time</th>\n",
       "      <th>Arrival_Time</th>\n",
       "      <th>Duration</th>\n",
       "      <th>Total_Stops</th>\n",
       "      <th>Additional_Info</th>\n",
       "      <th>Price</th>\n",
       "    </tr>\n",
       "  </thead>\n",
       "  <tbody>\n",
       "    <tr>\n",
       "      <th>2666</th>\n",
       "      <td>Air India</td>\n",
       "      <td>6/06/2019</td>\n",
       "      <td>Kolkata</td>\n",
       "      <td>Banglore</td>\n",
       "      <td>CCU → DEL → BLR</td>\n",
       "      <td>20:30</td>\n",
       "      <td>20:25 07 Jun</td>\n",
       "      <td>23h 55m</td>\n",
       "      <td>1 stop</td>\n",
       "      <td>No info</td>\n",
       "      <td>NaN</td>\n",
       "    </tr>\n",
       "    <tr>\n",
       "      <th>2667</th>\n",
       "      <td>IndiGo</td>\n",
       "      <td>27/03/2019</td>\n",
       "      <td>Kolkata</td>\n",
       "      <td>Banglore</td>\n",
       "      <td>CCU → BLR</td>\n",
       "      <td>14:20</td>\n",
       "      <td>16:55</td>\n",
       "      <td>2h 35m</td>\n",
       "      <td>non-stop</td>\n",
       "      <td>No info</td>\n",
       "      <td>NaN</td>\n",
       "    </tr>\n",
       "    <tr>\n",
       "      <th>2668</th>\n",
       "      <td>Jet Airways</td>\n",
       "      <td>6/03/2019</td>\n",
       "      <td>Delhi</td>\n",
       "      <td>Cochin</td>\n",
       "      <td>DEL → BOM → COK</td>\n",
       "      <td>21:50</td>\n",
       "      <td>04:25 07 Mar</td>\n",
       "      <td>6h 35m</td>\n",
       "      <td>1 stop</td>\n",
       "      <td>No info</td>\n",
       "      <td>NaN</td>\n",
       "    </tr>\n",
       "    <tr>\n",
       "      <th>2669</th>\n",
       "      <td>Air India</td>\n",
       "      <td>6/03/2019</td>\n",
       "      <td>Delhi</td>\n",
       "      <td>Cochin</td>\n",
       "      <td>DEL → BOM → COK</td>\n",
       "      <td>04:00</td>\n",
       "      <td>19:15</td>\n",
       "      <td>15h 15m</td>\n",
       "      <td>1 stop</td>\n",
       "      <td>No info</td>\n",
       "      <td>NaN</td>\n",
       "    </tr>\n",
       "    <tr>\n",
       "      <th>2670</th>\n",
       "      <td>Multiple carriers</td>\n",
       "      <td>15/06/2019</td>\n",
       "      <td>Delhi</td>\n",
       "      <td>Cochin</td>\n",
       "      <td>DEL → BOM → COK</td>\n",
       "      <td>04:55</td>\n",
       "      <td>19:15</td>\n",
       "      <td>14h 20m</td>\n",
       "      <td>1 stop</td>\n",
       "      <td>No info</td>\n",
       "      <td>NaN</td>\n",
       "    </tr>\n",
       "  </tbody>\n",
       "</table>\n",
       "</div>"
      ],
      "text/plain": [
       "                Airline Date_of_Journey   Source Destination            Route  \\\n",
       "2666          Air India       6/06/2019  Kolkata    Banglore  CCU → DEL → BLR   \n",
       "2667             IndiGo      27/03/2019  Kolkata    Banglore        CCU → BLR   \n",
       "2668        Jet Airways       6/03/2019    Delhi      Cochin  DEL → BOM → COK   \n",
       "2669          Air India       6/03/2019    Delhi      Cochin  DEL → BOM → COK   \n",
       "2670  Multiple carriers      15/06/2019    Delhi      Cochin  DEL → BOM → COK   \n",
       "\n",
       "     Dep_Time  Arrival_Time Duration Total_Stops Additional_Info  Price  \n",
       "2666    20:30  20:25 07 Jun  23h 55m      1 stop         No info    NaN  \n",
       "2667    14:20         16:55   2h 35m    non-stop         No info    NaN  \n",
       "2668    21:50  04:25 07 Mar   6h 35m      1 stop         No info    NaN  \n",
       "2669    04:00         19:15  15h 15m      1 stop         No info    NaN  \n",
       "2670    04:55         19:15  14h 20m      1 stop         No info    NaN  "
      ]
     },
     "execution_count": 8,
     "metadata": {},
     "output_type": "execute_result"
    }
   ],
   "source": [
    "final_df.tail()"
   ]
  },
  {
   "cell_type": "code",
   "execution_count": 9,
   "id": "096380b2",
   "metadata": {},
   "outputs": [
    {
     "data": {
      "text/plain": [
       "(13354, 11)"
      ]
     },
     "execution_count": 9,
     "metadata": {},
     "output_type": "execute_result"
    }
   ],
   "source": [
    "final_df.shape "
   ]
  },
  {
   "cell_type": "code",
   "execution_count": 10,
   "id": "21e6ecdf",
   "metadata": {
    "scrolled": true
   },
   "outputs": [
    {
     "name": "stdout",
     "output_type": "stream",
     "text": [
      "<class 'pandas.core.frame.DataFrame'>\n",
      "Int64Index: 13354 entries, 0 to 2670\n",
      "Data columns (total 11 columns):\n",
      " #   Column           Non-Null Count  Dtype  \n",
      "---  ------           --------------  -----  \n",
      " 0   Airline          13354 non-null  object \n",
      " 1   Date_of_Journey  13354 non-null  object \n",
      " 2   Source           13354 non-null  object \n",
      " 3   Destination      13354 non-null  object \n",
      " 4   Route            13353 non-null  object \n",
      " 5   Dep_Time         13354 non-null  object \n",
      " 6   Arrival_Time     13354 non-null  object \n",
      " 7   Duration         13354 non-null  object \n",
      " 8   Total_Stops      13353 non-null  object \n",
      " 9   Additional_Info  13354 non-null  object \n",
      " 10  Price            10683 non-null  float64\n",
      "dtypes: float64(1), object(10)\n",
      "memory usage: 1.2+ MB\n"
     ]
    }
   ],
   "source": [
    "final_df.info()"
   ]
  },
  {
   "cell_type": "markdown",
   "id": "cbc8f08b",
   "metadata": {},
   "source": [
    "# Fetaure Engineering Process"
   ]
  },
  {
   "cell_type": "markdown",
   "id": "b0f21e3b",
   "metadata": {},
   "source": [
    "# 1. Date_of_Journey Column--- Date, Month, Year"
   ]
  },
  {
   "cell_type": "code",
   "execution_count": 11,
   "id": "e6876a67",
   "metadata": {},
   "outputs": [
    {
     "data": {
      "text/plain": [
       "0    24/03/2019\n",
       "1     1/05/2019\n",
       "2     9/06/2019\n",
       "3    12/05/2019\n",
       "4    01/03/2019\n",
       "Name: Date_of_Journey, dtype: object"
      ]
     },
     "execution_count": 11,
     "metadata": {},
     "output_type": "execute_result"
    }
   ],
   "source": [
    "final_df['Date_of_Journey'].head()"
   ]
  },
  {
   "cell_type": "code",
   "execution_count": 12,
   "id": "75b93c6d",
   "metadata": {},
   "outputs": [
    {
     "data": {
      "text/plain": [
       "(13354, 11)"
      ]
     },
     "execution_count": 12,
     "metadata": {},
     "output_type": "execute_result"
    }
   ],
   "source": [
    "final_df.shape "
   ]
  },
  {
   "cell_type": "code",
   "execution_count": 13,
   "id": "4ac02757",
   "metadata": {},
   "outputs": [],
   "source": [
    "final_df['Date']=final_df['Date_of_Journey'].str.split('/')"
   ]
  },
  {
   "cell_type": "code",
   "execution_count": 14,
   "id": "00706c57",
   "metadata": {},
   "outputs": [
    {
     "data": {
      "text/plain": [
       "0    [24, 03, 2019]\n",
       "1     [1, 05, 2019]\n",
       "2     [9, 06, 2019]\n",
       "3    [12, 05, 2019]\n",
       "4    [01, 03, 2019]\n",
       "Name: Date, dtype: object"
      ]
     },
     "execution_count": 14,
     "metadata": {},
     "output_type": "execute_result"
    }
   ],
   "source": [
    "final_df['Date'].head()"
   ]
  },
  {
   "cell_type": "code",
   "execution_count": 15,
   "id": "b9d5e54b",
   "metadata": {},
   "outputs": [],
   "source": [
    "final_df['Date']=final_df['Date_of_Journey'].str.split('/').str[0]"
   ]
  },
  {
   "cell_type": "code",
   "execution_count": 16,
   "id": "03502ba4",
   "metadata": {
    "scrolled": true
   },
   "outputs": [
    {
     "data": {
      "text/plain": [
       "0    24\n",
       "1     1\n",
       "2     9\n",
       "3    12\n",
       "4    01\n",
       "Name: Date, dtype: object"
      ]
     },
     "execution_count": 16,
     "metadata": {},
     "output_type": "execute_result"
    }
   ],
   "source": [
    "final_df['Date'].head()"
   ]
  },
  {
   "cell_type": "code",
   "execution_count": 17,
   "id": "a0f08a8e",
   "metadata": {},
   "outputs": [],
   "source": [
    "final_df['Date']=final_df['Date_of_Journey'].str.split('/').str[0]\n",
    "final_df['Month']=final_df['Date_of_Journey'].str.split('/').str[1]\n",
    "final_df['Year']=final_df['Date_of_Journey'].str.split('/').str[2]"
   ]
  },
  {
   "cell_type": "code",
   "execution_count": 18,
   "id": "3a02d421",
   "metadata": {},
   "outputs": [
    {
     "data": {
      "text/html": [
       "<div>\n",
       "<style scoped>\n",
       "    .dataframe tbody tr th:only-of-type {\n",
       "        vertical-align: middle;\n",
       "    }\n",
       "\n",
       "    .dataframe tbody tr th {\n",
       "        vertical-align: top;\n",
       "    }\n",
       "\n",
       "    .dataframe thead th {\n",
       "        text-align: right;\n",
       "    }\n",
       "</style>\n",
       "<table border=\"1\" class=\"dataframe\">\n",
       "  <thead>\n",
       "    <tr style=\"text-align: right;\">\n",
       "      <th></th>\n",
       "      <th>Airline</th>\n",
       "      <th>Date_of_Journey</th>\n",
       "      <th>Source</th>\n",
       "      <th>Destination</th>\n",
       "      <th>Route</th>\n",
       "      <th>Dep_Time</th>\n",
       "      <th>Arrival_Time</th>\n",
       "      <th>Duration</th>\n",
       "      <th>Total_Stops</th>\n",
       "      <th>Additional_Info</th>\n",
       "      <th>Price</th>\n",
       "      <th>Date</th>\n",
       "      <th>Month</th>\n",
       "      <th>Year</th>\n",
       "    </tr>\n",
       "  </thead>\n",
       "  <tbody>\n",
       "    <tr>\n",
       "      <th>0</th>\n",
       "      <td>IndiGo</td>\n",
       "      <td>24/03/2019</td>\n",
       "      <td>Banglore</td>\n",
       "      <td>New Delhi</td>\n",
       "      <td>BLR → DEL</td>\n",
       "      <td>22:20</td>\n",
       "      <td>01:10 22 Mar</td>\n",
       "      <td>2h 50m</td>\n",
       "      <td>non-stop</td>\n",
       "      <td>No info</td>\n",
       "      <td>3897.0</td>\n",
       "      <td>24</td>\n",
       "      <td>03</td>\n",
       "      <td>2019</td>\n",
       "    </tr>\n",
       "    <tr>\n",
       "      <th>1</th>\n",
       "      <td>Air India</td>\n",
       "      <td>1/05/2019</td>\n",
       "      <td>Kolkata</td>\n",
       "      <td>Banglore</td>\n",
       "      <td>CCU → IXR → BBI → BLR</td>\n",
       "      <td>05:50</td>\n",
       "      <td>13:15</td>\n",
       "      <td>7h 25m</td>\n",
       "      <td>2 stops</td>\n",
       "      <td>No info</td>\n",
       "      <td>7662.0</td>\n",
       "      <td>1</td>\n",
       "      <td>05</td>\n",
       "      <td>2019</td>\n",
       "    </tr>\n",
       "  </tbody>\n",
       "</table>\n",
       "</div>"
      ],
      "text/plain": [
       "     Airline Date_of_Journey    Source Destination                  Route  \\\n",
       "0     IndiGo      24/03/2019  Banglore   New Delhi              BLR → DEL   \n",
       "1  Air India       1/05/2019   Kolkata    Banglore  CCU → IXR → BBI → BLR   \n",
       "\n",
       "  Dep_Time  Arrival_Time Duration Total_Stops Additional_Info   Price Date  \\\n",
       "0    22:20  01:10 22 Mar   2h 50m    non-stop         No info  3897.0   24   \n",
       "1    05:50         13:15   7h 25m     2 stops         No info  7662.0    1   \n",
       "\n",
       "  Month  Year  \n",
       "0    03  2019  \n",
       "1    05  2019  "
      ]
     },
     "execution_count": 18,
     "metadata": {},
     "output_type": "execute_result"
    }
   ],
   "source": [
    "final_df.head(2)"
   ]
  },
  {
   "cell_type": "code",
   "execution_count": 19,
   "id": "dd981132",
   "metadata": {},
   "outputs": [],
   "source": [
    "final_df[\"Date\"]=final_df['Date_of_Journey'].apply(lambda x:x.split(\"/\")[0])\n",
    "final_df[\"Month\"]=final_df['Date_of_Journey'].apply(lambda x:x.split(\"/\")[1])\n",
    "final_df[\"Year\"]=final_df['Date_of_Journey'].apply(lambda x:x.split(\"/\")[2])"
   ]
  },
  {
   "cell_type": "code",
   "execution_count": 20,
   "id": "4a7b8472",
   "metadata": {},
   "outputs": [],
   "source": [
    "final_df['Date']=final_df['Date'].astype(int)\n",
    "final_df['Month']=final_df['Month'].astype(int)\n",
    "final_df['Year']=final_df['Year'].astype(int)"
   ]
  },
  {
   "cell_type": "code",
   "execution_count": 21,
   "id": "72cb261d",
   "metadata": {},
   "outputs": [],
   "source": [
    "final_df.drop('Date_of_Journey',axis=1,inplace=True)"
   ]
  },
  {
   "cell_type": "code",
   "execution_count": 22,
   "id": "76d26fc9",
   "metadata": {},
   "outputs": [
    {
     "data": {
      "text/html": [
       "<div>\n",
       "<style scoped>\n",
       "    .dataframe tbody tr th:only-of-type {\n",
       "        vertical-align: middle;\n",
       "    }\n",
       "\n",
       "    .dataframe tbody tr th {\n",
       "        vertical-align: top;\n",
       "    }\n",
       "\n",
       "    .dataframe thead th {\n",
       "        text-align: right;\n",
       "    }\n",
       "</style>\n",
       "<table border=\"1\" class=\"dataframe\">\n",
       "  <thead>\n",
       "    <tr style=\"text-align: right;\">\n",
       "      <th></th>\n",
       "      <th>Airline</th>\n",
       "      <th>Source</th>\n",
       "      <th>Destination</th>\n",
       "      <th>Route</th>\n",
       "      <th>Dep_Time</th>\n",
       "      <th>Arrival_Time</th>\n",
       "      <th>Duration</th>\n",
       "      <th>Total_Stops</th>\n",
       "      <th>Additional_Info</th>\n",
       "      <th>Price</th>\n",
       "      <th>Date</th>\n",
       "      <th>Month</th>\n",
       "      <th>Year</th>\n",
       "    </tr>\n",
       "  </thead>\n",
       "  <tbody>\n",
       "    <tr>\n",
       "      <th>0</th>\n",
       "      <td>IndiGo</td>\n",
       "      <td>Banglore</td>\n",
       "      <td>New Delhi</td>\n",
       "      <td>BLR → DEL</td>\n",
       "      <td>22:20</td>\n",
       "      <td>01:10 22 Mar</td>\n",
       "      <td>2h 50m</td>\n",
       "      <td>non-stop</td>\n",
       "      <td>No info</td>\n",
       "      <td>3897.0</td>\n",
       "      <td>24</td>\n",
       "      <td>3</td>\n",
       "      <td>2019</td>\n",
       "    </tr>\n",
       "  </tbody>\n",
       "</table>\n",
       "</div>"
      ],
      "text/plain": [
       "  Airline    Source Destination      Route Dep_Time  Arrival_Time Duration  \\\n",
       "0  IndiGo  Banglore   New Delhi  BLR → DEL    22:20  01:10 22 Mar   2h 50m   \n",
       "\n",
       "  Total_Stops Additional_Info   Price  Date  Month  Year  \n",
       "0    non-stop         No info  3897.0    24      3  2019  "
      ]
     },
     "execution_count": 22,
     "metadata": {},
     "output_type": "execute_result"
    }
   ],
   "source": [
    "final_df.head(1)"
   ]
  },
  {
   "cell_type": "code",
   "execution_count": 23,
   "id": "e06feeaf",
   "metadata": {},
   "outputs": [
    {
     "name": "stdout",
     "output_type": "stream",
     "text": [
      "<class 'pandas.core.frame.DataFrame'>\n",
      "Int64Index: 13354 entries, 0 to 2670\n",
      "Data columns (total 13 columns):\n",
      " #   Column           Non-Null Count  Dtype  \n",
      "---  ------           --------------  -----  \n",
      " 0   Airline          13354 non-null  object \n",
      " 1   Source           13354 non-null  object \n",
      " 2   Destination      13354 non-null  object \n",
      " 3   Route            13353 non-null  object \n",
      " 4   Dep_Time         13354 non-null  object \n",
      " 5   Arrival_Time     13354 non-null  object \n",
      " 6   Duration         13354 non-null  object \n",
      " 7   Total_Stops      13353 non-null  object \n",
      " 8   Additional_Info  13354 non-null  object \n",
      " 9   Price            10683 non-null  float64\n",
      " 10  Date             13354 non-null  int32  \n",
      " 11  Month            13354 non-null  int32  \n",
      " 12  Year             13354 non-null  int32  \n",
      "dtypes: float64(1), int32(3), object(9)\n",
      "memory usage: 1.3+ MB\n"
     ]
    }
   ],
   "source": [
    "final_df.info()"
   ]
  },
  {
   "cell_type": "markdown",
   "id": "7e50053e",
   "metadata": {},
   "source": [
    "# 2. Arrival_Time Column--- Arrival_hour & Arrival_min"
   ]
  },
  {
   "cell_type": "code",
   "execution_count": 24,
   "id": "72468a1c",
   "metadata": {},
   "outputs": [
    {
     "data": {
      "text/plain": [
       "0       01:10 22 Mar\n",
       "1              13:15\n",
       "2       04:25 10 Jun\n",
       "3              23:30\n",
       "4              21:35\n",
       "            ...     \n",
       "2666    20:25 07 Jun\n",
       "2667           16:55\n",
       "2668    04:25 07 Mar\n",
       "2669           19:15\n",
       "2670           19:15\n",
       "Name: Arrival_Time, Length: 13354, dtype: object"
      ]
     },
     "execution_count": 24,
     "metadata": {},
     "output_type": "execute_result"
    }
   ],
   "source": [
    "final_df['Arrival_Time']"
   ]
  },
  {
   "cell_type": "code",
   "execution_count": 25,
   "id": "6d4f2b0c",
   "metadata": {
    "scrolled": true
   },
   "outputs": [
    {
     "data": {
      "text/plain": [
       "0       [01:10, 22, Mar]\n",
       "1                [13:15]\n",
       "2       [04:25, 10, Jun]\n",
       "3                [23:30]\n",
       "4                [21:35]\n",
       "              ...       \n",
       "2666    [20:25, 07, Jun]\n",
       "2667             [16:55]\n",
       "2668    [04:25, 07, Mar]\n",
       "2669             [19:15]\n",
       "2670             [19:15]\n",
       "Name: Arrival_Time, Length: 13354, dtype: object"
      ]
     },
     "execution_count": 25,
     "metadata": {},
     "output_type": "execute_result"
    }
   ],
   "source": [
    "final_df['Arrival_Time'].str.split(' ')"
   ]
  },
  {
   "cell_type": "markdown",
   "id": "f87782bf",
   "metadata": {},
   "source": [
    "## we already date so we need only the arrival time"
   ]
  },
  {
   "cell_type": "code",
   "execution_count": 26,
   "id": "ebfe1634",
   "metadata": {},
   "outputs": [
    {
     "data": {
      "text/plain": [
       "0       01:10\n",
       "1       13:15\n",
       "2       04:25\n",
       "3       23:30\n",
       "4       21:35\n",
       "        ...  \n",
       "2666    20:25\n",
       "2667    16:55\n",
       "2668    04:25\n",
       "2669    19:15\n",
       "2670    19:15\n",
       "Name: Arrival_Time, Length: 13354, dtype: object"
      ]
     },
     "execution_count": 26,
     "metadata": {},
     "output_type": "execute_result"
    }
   ],
   "source": [
    "final_df['Arrival_Time'].str.split(' ').str[0]"
   ]
  },
  {
   "cell_type": "code",
   "execution_count": 27,
   "id": "8f7bb18b",
   "metadata": {},
   "outputs": [],
   "source": [
    "final_df['Arrival_Time']=final_df['Arrival_Time'].apply(lambda x : x.split(' ')[0])"
   ]
  },
  {
   "cell_type": "code",
   "execution_count": 28,
   "id": "8746b38e",
   "metadata": {},
   "outputs": [
    {
     "data": {
      "text/plain": [
       "0       01:10\n",
       "1       13:15\n",
       "2       04:25\n",
       "3       23:30\n",
       "4       21:35\n",
       "        ...  \n",
       "2666    20:25\n",
       "2667    16:55\n",
       "2668    04:25\n",
       "2669    19:15\n",
       "2670    19:15\n",
       "Name: Arrival_Time, Length: 13354, dtype: object"
      ]
     },
     "execution_count": 28,
     "metadata": {},
     "output_type": "execute_result"
    }
   ],
   "source": [
    "final_df['Arrival_Time']"
   ]
  },
  {
   "cell_type": "code",
   "execution_count": 29,
   "id": "422c41e5",
   "metadata": {},
   "outputs": [],
   "source": [
    "final_df['Arrival_hour']=final_df['Arrival_Time'].str.split(':').str[0]\n",
    "final_df['Arrival_min']=final_df['Arrival_Time'].str.split(':').str[1]"
   ]
  },
  {
   "cell_type": "code",
   "execution_count": 30,
   "id": "866d7e0f",
   "metadata": {},
   "outputs": [],
   "source": [
    "final_df['Arrival_hour']=final_df['Arrival_hour'].astype(int)\n",
    "final_df['Arrival_min']=final_df['Arrival_min'].astype(int)"
   ]
  },
  {
   "cell_type": "code",
   "execution_count": 31,
   "id": "7402a55e",
   "metadata": {},
   "outputs": [],
   "source": [
    "final_df.drop('Arrival_Time',axis=1,inplace=True)"
   ]
  },
  {
   "cell_type": "code",
   "execution_count": 32,
   "id": "724c73cd",
   "metadata": {},
   "outputs": [
    {
     "data": {
      "text/html": [
       "<div>\n",
       "<style scoped>\n",
       "    .dataframe tbody tr th:only-of-type {\n",
       "        vertical-align: middle;\n",
       "    }\n",
       "\n",
       "    .dataframe tbody tr th {\n",
       "        vertical-align: top;\n",
       "    }\n",
       "\n",
       "    .dataframe thead th {\n",
       "        text-align: right;\n",
       "    }\n",
       "</style>\n",
       "<table border=\"1\" class=\"dataframe\">\n",
       "  <thead>\n",
       "    <tr style=\"text-align: right;\">\n",
       "      <th></th>\n",
       "      <th>Airline</th>\n",
       "      <th>Source</th>\n",
       "      <th>Destination</th>\n",
       "      <th>Route</th>\n",
       "      <th>Dep_Time</th>\n",
       "      <th>Duration</th>\n",
       "      <th>Total_Stops</th>\n",
       "      <th>Additional_Info</th>\n",
       "      <th>Price</th>\n",
       "      <th>Date</th>\n",
       "      <th>Month</th>\n",
       "      <th>Year</th>\n",
       "      <th>Arrival_hour</th>\n",
       "      <th>Arrival_min</th>\n",
       "    </tr>\n",
       "  </thead>\n",
       "  <tbody>\n",
       "    <tr>\n",
       "      <th>0</th>\n",
       "      <td>IndiGo</td>\n",
       "      <td>Banglore</td>\n",
       "      <td>New Delhi</td>\n",
       "      <td>BLR → DEL</td>\n",
       "      <td>22:20</td>\n",
       "      <td>2h 50m</td>\n",
       "      <td>non-stop</td>\n",
       "      <td>No info</td>\n",
       "      <td>3897.0</td>\n",
       "      <td>24</td>\n",
       "      <td>3</td>\n",
       "      <td>2019</td>\n",
       "      <td>1</td>\n",
       "      <td>10</td>\n",
       "    </tr>\n",
       "  </tbody>\n",
       "</table>\n",
       "</div>"
      ],
      "text/plain": [
       "  Airline    Source Destination      Route Dep_Time Duration Total_Stops  \\\n",
       "0  IndiGo  Banglore   New Delhi  BLR → DEL    22:20   2h 50m    non-stop   \n",
       "\n",
       "  Additional_Info   Price  Date  Month  Year  Arrival_hour  Arrival_min  \n",
       "0         No info  3897.0    24      3  2019             1           10  "
      ]
     },
     "execution_count": 32,
     "metadata": {},
     "output_type": "execute_result"
    }
   ],
   "source": [
    "final_df.head(1)"
   ]
  },
  {
   "cell_type": "code",
   "execution_count": 33,
   "id": "a14427e3",
   "metadata": {},
   "outputs": [
    {
     "name": "stdout",
     "output_type": "stream",
     "text": [
      "<class 'pandas.core.frame.DataFrame'>\n",
      "Int64Index: 13354 entries, 0 to 2670\n",
      "Data columns (total 14 columns):\n",
      " #   Column           Non-Null Count  Dtype  \n",
      "---  ------           --------------  -----  \n",
      " 0   Airline          13354 non-null  object \n",
      " 1   Source           13354 non-null  object \n",
      " 2   Destination      13354 non-null  object \n",
      " 3   Route            13353 non-null  object \n",
      " 4   Dep_Time         13354 non-null  object \n",
      " 5   Duration         13354 non-null  object \n",
      " 6   Total_Stops      13353 non-null  object \n",
      " 7   Additional_Info  13354 non-null  object \n",
      " 8   Price            10683 non-null  float64\n",
      " 9   Date             13354 non-null  int32  \n",
      " 10  Month            13354 non-null  int32  \n",
      " 11  Year             13354 non-null  int32  \n",
      " 12  Arrival_hour     13354 non-null  int32  \n",
      " 13  Arrival_min      13354 non-null  int32  \n",
      "dtypes: float64(1), int32(5), object(8)\n",
      "memory usage: 1.3+ MB\n"
     ]
    }
   ],
   "source": [
    "final_df.info()"
   ]
  },
  {
   "cell_type": "markdown",
   "id": "bbc22ca7",
   "metadata": {},
   "source": [
    "# 3. Dept_Time Column--- Dept_hour & Dept_min"
   ]
  },
  {
   "cell_type": "code",
   "execution_count": 34,
   "id": "98b4a6f6",
   "metadata": {},
   "outputs": [],
   "source": [
    "final_df['Dept_hour']=final_df['Dep_Time'].str.split(':').str[0]\n",
    "final_df['Dept_min']=final_df['Dep_Time'].str.split(':').str[1]"
   ]
  },
  {
   "cell_type": "code",
   "execution_count": 35,
   "id": "5e2a1f0e",
   "metadata": {},
   "outputs": [],
   "source": [
    "final_df['Dept_hour']=final_df['Dept_hour'].astype(int)\n",
    "final_df['Dept_min']=final_df['Dept_min'].astype(int)"
   ]
  },
  {
   "cell_type": "code",
   "execution_count": 36,
   "id": "8c524760",
   "metadata": {},
   "outputs": [],
   "source": [
    "final_df.drop('Dep_Time',axis=1,inplace=True)"
   ]
  },
  {
   "cell_type": "code",
   "execution_count": 37,
   "id": "4ced4710",
   "metadata": {},
   "outputs": [
    {
     "data": {
      "text/html": [
       "<div>\n",
       "<style scoped>\n",
       "    .dataframe tbody tr th:only-of-type {\n",
       "        vertical-align: middle;\n",
       "    }\n",
       "\n",
       "    .dataframe tbody tr th {\n",
       "        vertical-align: top;\n",
       "    }\n",
       "\n",
       "    .dataframe thead th {\n",
       "        text-align: right;\n",
       "    }\n",
       "</style>\n",
       "<table border=\"1\" class=\"dataframe\">\n",
       "  <thead>\n",
       "    <tr style=\"text-align: right;\">\n",
       "      <th></th>\n",
       "      <th>Airline</th>\n",
       "      <th>Source</th>\n",
       "      <th>Destination</th>\n",
       "      <th>Route</th>\n",
       "      <th>Duration</th>\n",
       "      <th>Total_Stops</th>\n",
       "      <th>Additional_Info</th>\n",
       "      <th>Price</th>\n",
       "      <th>Date</th>\n",
       "      <th>Month</th>\n",
       "      <th>Year</th>\n",
       "      <th>Arrival_hour</th>\n",
       "      <th>Arrival_min</th>\n",
       "      <th>Dept_hour</th>\n",
       "      <th>Dept_min</th>\n",
       "    </tr>\n",
       "  </thead>\n",
       "  <tbody>\n",
       "    <tr>\n",
       "      <th>0</th>\n",
       "      <td>IndiGo</td>\n",
       "      <td>Banglore</td>\n",
       "      <td>New Delhi</td>\n",
       "      <td>BLR → DEL</td>\n",
       "      <td>2h 50m</td>\n",
       "      <td>non-stop</td>\n",
       "      <td>No info</td>\n",
       "      <td>3897.0</td>\n",
       "      <td>24</td>\n",
       "      <td>3</td>\n",
       "      <td>2019</td>\n",
       "      <td>1</td>\n",
       "      <td>10</td>\n",
       "      <td>22</td>\n",
       "      <td>20</td>\n",
       "    </tr>\n",
       "  </tbody>\n",
       "</table>\n",
       "</div>"
      ],
      "text/plain": [
       "  Airline    Source Destination      Route Duration Total_Stops  \\\n",
       "0  IndiGo  Banglore   New Delhi  BLR → DEL   2h 50m    non-stop   \n",
       "\n",
       "  Additional_Info   Price  Date  Month  Year  Arrival_hour  Arrival_min  \\\n",
       "0         No info  3897.0    24      3  2019             1           10   \n",
       "\n",
       "   Dept_hour  Dept_min  \n",
       "0         22        20  "
      ]
     },
     "execution_count": 37,
     "metadata": {},
     "output_type": "execute_result"
    }
   ],
   "source": [
    "final_df.head(1)"
   ]
  },
  {
   "cell_type": "code",
   "execution_count": 38,
   "id": "dc05498c",
   "metadata": {},
   "outputs": [
    {
     "name": "stdout",
     "output_type": "stream",
     "text": [
      "<class 'pandas.core.frame.DataFrame'>\n",
      "Int64Index: 13354 entries, 0 to 2670\n",
      "Data columns (total 15 columns):\n",
      " #   Column           Non-Null Count  Dtype  \n",
      "---  ------           --------------  -----  \n",
      " 0   Airline          13354 non-null  object \n",
      " 1   Source           13354 non-null  object \n",
      " 2   Destination      13354 non-null  object \n",
      " 3   Route            13353 non-null  object \n",
      " 4   Duration         13354 non-null  object \n",
      " 5   Total_Stops      13353 non-null  object \n",
      " 6   Additional_Info  13354 non-null  object \n",
      " 7   Price            10683 non-null  float64\n",
      " 8   Date             13354 non-null  int32  \n",
      " 9   Month            13354 non-null  int32  \n",
      " 10  Year             13354 non-null  int32  \n",
      " 11  Arrival_hour     13354 non-null  int32  \n",
      " 12  Arrival_min      13354 non-null  int32  \n",
      " 13  Dept_hour        13354 non-null  int32  \n",
      " 14  Dept_min         13354 non-null  int32  \n",
      "dtypes: float64(1), int32(7), object(7)\n",
      "memory usage: 1.3+ MB\n"
     ]
    }
   ],
   "source": [
    "final_df.info()"
   ]
  },
  {
   "cell_type": "markdown",
   "id": "aed8c45b",
   "metadata": {},
   "source": [
    "# 4. Total_Stops --- Remove Route Col"
   ]
  },
  {
   "cell_type": "code",
   "execution_count": 39,
   "id": "494ae118",
   "metadata": {},
   "outputs": [
    {
     "data": {
      "text/plain": [
       "['non-stop', '2 stops', '1 stop', '3 stops', nan, '4 stops']"
      ]
     },
     "execution_count": 39,
     "metadata": {},
     "output_type": "execute_result"
    }
   ],
   "source": [
    "list(final_df['Total_Stops'].unique())"
   ]
  },
  {
   "cell_type": "code",
   "execution_count": 40,
   "id": "5f8fcb17",
   "metadata": {
    "scrolled": true
   },
   "outputs": [
    {
     "data": {
      "text/plain": [
       "1"
      ]
     },
     "execution_count": 40,
     "metadata": {},
     "output_type": "execute_result"
    }
   ],
   "source": [
    "final_df['Total_Stops'].isnull().sum()"
   ]
  },
  {
   "cell_type": "code",
   "execution_count": 41,
   "id": "3229b1e9",
   "metadata": {},
   "outputs": [
    {
     "data": {
      "text/html": [
       "<div>\n",
       "<style scoped>\n",
       "    .dataframe tbody tr th:only-of-type {\n",
       "        vertical-align: middle;\n",
       "    }\n",
       "\n",
       "    .dataframe tbody tr th {\n",
       "        vertical-align: top;\n",
       "    }\n",
       "\n",
       "    .dataframe thead th {\n",
       "        text-align: right;\n",
       "    }\n",
       "</style>\n",
       "<table border=\"1\" class=\"dataframe\">\n",
       "  <thead>\n",
       "    <tr style=\"text-align: right;\">\n",
       "      <th></th>\n",
       "      <th>Airline</th>\n",
       "      <th>Source</th>\n",
       "      <th>Destination</th>\n",
       "      <th>Route</th>\n",
       "      <th>Duration</th>\n",
       "      <th>Total_Stops</th>\n",
       "      <th>Additional_Info</th>\n",
       "      <th>Price</th>\n",
       "      <th>Date</th>\n",
       "      <th>Month</th>\n",
       "      <th>Year</th>\n",
       "      <th>Arrival_hour</th>\n",
       "      <th>Arrival_min</th>\n",
       "      <th>Dept_hour</th>\n",
       "      <th>Dept_min</th>\n",
       "    </tr>\n",
       "  </thead>\n",
       "  <tbody>\n",
       "    <tr>\n",
       "      <th>9039</th>\n",
       "      <td>Air India</td>\n",
       "      <td>Delhi</td>\n",
       "      <td>Cochin</td>\n",
       "      <td>NaN</td>\n",
       "      <td>23h 40m</td>\n",
       "      <td>NaN</td>\n",
       "      <td>No info</td>\n",
       "      <td>7480.0</td>\n",
       "      <td>6</td>\n",
       "      <td>5</td>\n",
       "      <td>2019</td>\n",
       "      <td>9</td>\n",
       "      <td>25</td>\n",
       "      <td>9</td>\n",
       "      <td>45</td>\n",
       "    </tr>\n",
       "  </tbody>\n",
       "</table>\n",
       "</div>"
      ],
      "text/plain": [
       "        Airline Source Destination Route Duration Total_Stops Additional_Info  \\\n",
       "9039  Air India  Delhi      Cochin   NaN  23h 40m         NaN         No info   \n",
       "\n",
       "       Price  Date  Month  Year  Arrival_hour  Arrival_min  Dept_hour  \\\n",
       "9039  7480.0     6      5  2019             9           25          9   \n",
       "\n",
       "      Dept_min  \n",
       "9039        45  "
      ]
     },
     "execution_count": 41,
     "metadata": {},
     "output_type": "execute_result"
    }
   ],
   "source": [
    "final_df[final_df['Total_Stops'].isnull()]"
   ]
  },
  {
   "cell_type": "code",
   "execution_count": 42,
   "id": "977cc06f",
   "metadata": {},
   "outputs": [],
   "source": [
    "final_df['Total_Stops']=final_df['Total_Stops'].map({'non-stop':0,'1 stop':1,'2 stops':2,'3 stops':3,'4 stops':4,'nan':1})"
   ]
  },
  {
   "cell_type": "code",
   "execution_count": 43,
   "id": "4865e629",
   "metadata": {},
   "outputs": [],
   "source": [
    "final_df.drop('Route',axis=1,inplace=True)"
   ]
  },
  {
   "cell_type": "code",
   "execution_count": 44,
   "id": "ce85ca71",
   "metadata": {},
   "outputs": [
    {
     "data": {
      "text/html": [
       "<div>\n",
       "<style scoped>\n",
       "    .dataframe tbody tr th:only-of-type {\n",
       "        vertical-align: middle;\n",
       "    }\n",
       "\n",
       "    .dataframe tbody tr th {\n",
       "        vertical-align: top;\n",
       "    }\n",
       "\n",
       "    .dataframe thead th {\n",
       "        text-align: right;\n",
       "    }\n",
       "</style>\n",
       "<table border=\"1\" class=\"dataframe\">\n",
       "  <thead>\n",
       "    <tr style=\"text-align: right;\">\n",
       "      <th></th>\n",
       "      <th>Airline</th>\n",
       "      <th>Source</th>\n",
       "      <th>Destination</th>\n",
       "      <th>Duration</th>\n",
       "      <th>Total_Stops</th>\n",
       "      <th>Additional_Info</th>\n",
       "      <th>Price</th>\n",
       "      <th>Date</th>\n",
       "      <th>Month</th>\n",
       "      <th>Year</th>\n",
       "      <th>Arrival_hour</th>\n",
       "      <th>Arrival_min</th>\n",
       "      <th>Dept_hour</th>\n",
       "      <th>Dept_min</th>\n",
       "    </tr>\n",
       "  </thead>\n",
       "  <tbody>\n",
       "    <tr>\n",
       "      <th>0</th>\n",
       "      <td>IndiGo</td>\n",
       "      <td>Banglore</td>\n",
       "      <td>New Delhi</td>\n",
       "      <td>2h 50m</td>\n",
       "      <td>0.0</td>\n",
       "      <td>No info</td>\n",
       "      <td>3897.0</td>\n",
       "      <td>24</td>\n",
       "      <td>3</td>\n",
       "      <td>2019</td>\n",
       "      <td>1</td>\n",
       "      <td>10</td>\n",
       "      <td>22</td>\n",
       "      <td>20</td>\n",
       "    </tr>\n",
       "    <tr>\n",
       "      <th>1</th>\n",
       "      <td>Air India</td>\n",
       "      <td>Kolkata</td>\n",
       "      <td>Banglore</td>\n",
       "      <td>7h 25m</td>\n",
       "      <td>2.0</td>\n",
       "      <td>No info</td>\n",
       "      <td>7662.0</td>\n",
       "      <td>1</td>\n",
       "      <td>5</td>\n",
       "      <td>2019</td>\n",
       "      <td>13</td>\n",
       "      <td>15</td>\n",
       "      <td>5</td>\n",
       "      <td>50</td>\n",
       "    </tr>\n",
       "    <tr>\n",
       "      <th>2</th>\n",
       "      <td>Jet Airways</td>\n",
       "      <td>Delhi</td>\n",
       "      <td>Cochin</td>\n",
       "      <td>19h</td>\n",
       "      <td>2.0</td>\n",
       "      <td>No info</td>\n",
       "      <td>13882.0</td>\n",
       "      <td>9</td>\n",
       "      <td>6</td>\n",
       "      <td>2019</td>\n",
       "      <td>4</td>\n",
       "      <td>25</td>\n",
       "      <td>9</td>\n",
       "      <td>25</td>\n",
       "    </tr>\n",
       "    <tr>\n",
       "      <th>3</th>\n",
       "      <td>IndiGo</td>\n",
       "      <td>Kolkata</td>\n",
       "      <td>Banglore</td>\n",
       "      <td>5h 25m</td>\n",
       "      <td>1.0</td>\n",
       "      <td>No info</td>\n",
       "      <td>6218.0</td>\n",
       "      <td>12</td>\n",
       "      <td>5</td>\n",
       "      <td>2019</td>\n",
       "      <td>23</td>\n",
       "      <td>30</td>\n",
       "      <td>18</td>\n",
       "      <td>5</td>\n",
       "    </tr>\n",
       "    <tr>\n",
       "      <th>4</th>\n",
       "      <td>IndiGo</td>\n",
       "      <td>Banglore</td>\n",
       "      <td>New Delhi</td>\n",
       "      <td>4h 45m</td>\n",
       "      <td>1.0</td>\n",
       "      <td>No info</td>\n",
       "      <td>13302.0</td>\n",
       "      <td>1</td>\n",
       "      <td>3</td>\n",
       "      <td>2019</td>\n",
       "      <td>21</td>\n",
       "      <td>35</td>\n",
       "      <td>16</td>\n",
       "      <td>50</td>\n",
       "    </tr>\n",
       "  </tbody>\n",
       "</table>\n",
       "</div>"
      ],
      "text/plain": [
       "       Airline    Source Destination Duration  Total_Stops Additional_Info  \\\n",
       "0       IndiGo  Banglore   New Delhi   2h 50m          0.0         No info   \n",
       "1    Air India   Kolkata    Banglore   7h 25m          2.0         No info   \n",
       "2  Jet Airways     Delhi      Cochin      19h          2.0         No info   \n",
       "3       IndiGo   Kolkata    Banglore   5h 25m          1.0         No info   \n",
       "4       IndiGo  Banglore   New Delhi   4h 45m          1.0         No info   \n",
       "\n",
       "     Price  Date  Month  Year  Arrival_hour  Arrival_min  Dept_hour  Dept_min  \n",
       "0   3897.0    24      3  2019             1           10         22        20  \n",
       "1   7662.0     1      5  2019            13           15          5        50  \n",
       "2  13882.0     9      6  2019             4           25          9        25  \n",
       "3   6218.0    12      5  2019            23           30         18         5  \n",
       "4  13302.0     1      3  2019            21           35         16        50  "
      ]
     },
     "execution_count": 44,
     "metadata": {},
     "output_type": "execute_result"
    }
   ],
   "source": [
    "final_df.head()"
   ]
  },
  {
   "cell_type": "code",
   "execution_count": 45,
   "id": "8c86e66f",
   "metadata": {},
   "outputs": [
    {
     "name": "stdout",
     "output_type": "stream",
     "text": [
      "<class 'pandas.core.frame.DataFrame'>\n",
      "Int64Index: 13354 entries, 0 to 2670\n",
      "Data columns (total 14 columns):\n",
      " #   Column           Non-Null Count  Dtype  \n",
      "---  ------           --------------  -----  \n",
      " 0   Airline          13354 non-null  object \n",
      " 1   Source           13354 non-null  object \n",
      " 2   Destination      13354 non-null  object \n",
      " 3   Duration         13354 non-null  object \n",
      " 4   Total_Stops      13353 non-null  float64\n",
      " 5   Additional_Info  13354 non-null  object \n",
      " 6   Price            10683 non-null  float64\n",
      " 7   Date             13354 non-null  int32  \n",
      " 8   Month            13354 non-null  int32  \n",
      " 9   Year             13354 non-null  int32  \n",
      " 10  Arrival_hour     13354 non-null  int32  \n",
      " 11  Arrival_min      13354 non-null  int32  \n",
      " 12  Dept_hour        13354 non-null  int32  \n",
      " 13  Dept_min         13354 non-null  int32  \n",
      "dtypes: float64(2), int32(7), object(5)\n",
      "memory usage: 1.2+ MB\n"
     ]
    }
   ],
   "source": [
    "final_df.info()"
   ]
  },
  {
   "cell_type": "markdown",
   "id": "3832889a",
   "metadata": {},
   "source": [
    "# 5. Duration"
   ]
  },
  {
   "cell_type": "code",
   "execution_count": 46,
   "id": "f0211abe",
   "metadata": {},
   "outputs": [
    {
     "data": {
      "text/plain": [
       "0        2h 50m\n",
       "1        7h 25m\n",
       "2           19h\n",
       "3        5h 25m\n",
       "4        4h 45m\n",
       "         ...   \n",
       "2666    23h 55m\n",
       "2667     2h 35m\n",
       "2668     6h 35m\n",
       "2669    15h 15m\n",
       "2670    14h 20m\n",
       "Name: Duration, Length: 13354, dtype: object"
      ]
     },
     "execution_count": 46,
     "metadata": {},
     "output_type": "execute_result"
    }
   ],
   "source": [
    "final_df['Duration']"
   ]
  },
  {
   "cell_type": "code",
   "execution_count": 47,
   "id": "73b2a758",
   "metadata": {},
   "outputs": [
    {
     "data": {
      "text/plain": [
       "0        2h\n",
       "1        7h\n",
       "2       19h\n",
       "3        5h\n",
       "4        4h\n",
       "       ... \n",
       "2666    23h\n",
       "2667     2h\n",
       "2668     6h\n",
       "2669    15h\n",
       "2670    14h\n",
       "Name: Duration, Length: 13354, dtype: object"
      ]
     },
     "execution_count": 47,
     "metadata": {},
     "output_type": "execute_result"
    }
   ],
   "source": [
    "final_df['Duration'].str.split(' ').str[0]"
   ]
  },
  {
   "cell_type": "code",
   "execution_count": 48,
   "id": "8e607f5b",
   "metadata": {},
   "outputs": [],
   "source": [
    "final_df['duration_hour']=final_df['Duration'].str.split(' ').str[0].str.split('h').str[0]"
   ]
  },
  {
   "cell_type": "code",
   "execution_count": 49,
   "id": "d382d854",
   "metadata": {
    "scrolled": true
   },
   "outputs": [
    {
     "data": {
      "text/plain": [
       "0        2\n",
       "1        7\n",
       "2       19\n",
       "3        5\n",
       "4        4\n",
       "        ..\n",
       "2666    23\n",
       "2667     2\n",
       "2668     6\n",
       "2669    15\n",
       "2670    14\n",
       "Name: duration_hour, Length: 13354, dtype: object"
      ]
     },
     "execution_count": 49,
     "metadata": {},
     "output_type": "execute_result"
    }
   ],
   "source": [
    "final_df['duration_hour']"
   ]
  },
  {
   "cell_type": "code",
   "execution_count": 50,
   "id": "0f79839d",
   "metadata": {},
   "outputs": [
    {
     "data": {
      "text/plain": [
       "(13354, 15)"
      ]
     },
     "execution_count": 50,
     "metadata": {},
     "output_type": "execute_result"
    }
   ],
   "source": [
    "final_df.shape "
   ]
  },
  {
   "cell_type": "code",
   "execution_count": 51,
   "id": "8ed1e287",
   "metadata": {
    "scrolled": true
   },
   "outputs": [
    {
     "data": {
      "text/html": [
       "<div>\n",
       "<style scoped>\n",
       "    .dataframe tbody tr th:only-of-type {\n",
       "        vertical-align: middle;\n",
       "    }\n",
       "\n",
       "    .dataframe tbody tr th {\n",
       "        vertical-align: top;\n",
       "    }\n",
       "\n",
       "    .dataframe thead th {\n",
       "        text-align: right;\n",
       "    }\n",
       "</style>\n",
       "<table border=\"1\" class=\"dataframe\">\n",
       "  <thead>\n",
       "    <tr style=\"text-align: right;\">\n",
       "      <th></th>\n",
       "      <th>Airline</th>\n",
       "      <th>Source</th>\n",
       "      <th>Destination</th>\n",
       "      <th>Duration</th>\n",
       "      <th>Total_Stops</th>\n",
       "      <th>Additional_Info</th>\n",
       "      <th>Price</th>\n",
       "      <th>Date</th>\n",
       "      <th>Month</th>\n",
       "      <th>Year</th>\n",
       "      <th>Arrival_hour</th>\n",
       "      <th>Arrival_min</th>\n",
       "      <th>Dept_hour</th>\n",
       "      <th>Dept_min</th>\n",
       "      <th>duration_hour</th>\n",
       "    </tr>\n",
       "  </thead>\n",
       "  <tbody>\n",
       "    <tr>\n",
       "      <th>6474</th>\n",
       "      <td>Air India</td>\n",
       "      <td>Mumbai</td>\n",
       "      <td>Hyderabad</td>\n",
       "      <td>5m</td>\n",
       "      <td>2.0</td>\n",
       "      <td>No info</td>\n",
       "      <td>17327.0</td>\n",
       "      <td>6</td>\n",
       "      <td>3</td>\n",
       "      <td>2019</td>\n",
       "      <td>16</td>\n",
       "      <td>55</td>\n",
       "      <td>16</td>\n",
       "      <td>50</td>\n",
       "      <td>5m</td>\n",
       "    </tr>\n",
       "    <tr>\n",
       "      <th>2660</th>\n",
       "      <td>Air India</td>\n",
       "      <td>Mumbai</td>\n",
       "      <td>Hyderabad</td>\n",
       "      <td>5m</td>\n",
       "      <td>2.0</td>\n",
       "      <td>No info</td>\n",
       "      <td>NaN</td>\n",
       "      <td>12</td>\n",
       "      <td>3</td>\n",
       "      <td>2019</td>\n",
       "      <td>16</td>\n",
       "      <td>55</td>\n",
       "      <td>16</td>\n",
       "      <td>50</td>\n",
       "      <td>5m</td>\n",
       "    </tr>\n",
       "  </tbody>\n",
       "</table>\n",
       "</div>"
      ],
      "text/plain": [
       "        Airline  Source Destination Duration  Total_Stops Additional_Info  \\\n",
       "6474  Air India  Mumbai   Hyderabad       5m          2.0         No info   \n",
       "2660  Air India  Mumbai   Hyderabad       5m          2.0         No info   \n",
       "\n",
       "        Price  Date  Month  Year  Arrival_hour  Arrival_min  Dept_hour  \\\n",
       "6474  17327.0     6      3  2019            16           55         16   \n",
       "2660      NaN    12      3  2019            16           55         16   \n",
       "\n",
       "      Dept_min duration_hour  \n",
       "6474        50            5m  \n",
       "2660        50            5m  "
      ]
     },
     "execution_count": 51,
     "metadata": {},
     "output_type": "execute_result"
    }
   ],
   "source": [
    "final_df[final_df['duration_hour']=='5m']"
   ]
  },
  {
   "cell_type": "code",
   "execution_count": 52,
   "id": "05cdbd02",
   "metadata": {},
   "outputs": [],
   "source": [
    "final_df.drop(6474,axis=0,inplace=True)\n",
    "final_df.drop(2660,axis=0,inplace=True)"
   ]
  },
  {
   "cell_type": "code",
   "execution_count": 53,
   "id": "c17efaad",
   "metadata": {},
   "outputs": [
    {
     "data": {
      "text/plain": [
       "(13351, 15)"
      ]
     },
     "execution_count": 53,
     "metadata": {},
     "output_type": "execute_result"
    }
   ],
   "source": [
    "final_df.shape "
   ]
  },
  {
   "cell_type": "code",
   "execution_count": 54,
   "id": "04480d5e",
   "metadata": {},
   "outputs": [],
   "source": [
    "final_df['duration_hour']=final_df['duration_hour'].astype('int')"
   ]
  },
  {
   "cell_type": "code",
   "execution_count": 55,
   "id": "83aafe8b",
   "metadata": {
    "scrolled": false
   },
   "outputs": [
    {
     "data": {
      "text/plain": [
       "0        120\n",
       "1        420\n",
       "2       1140\n",
       "3        300\n",
       "4        240\n",
       "        ... \n",
       "2666    1380\n",
       "2667     120\n",
       "2668     360\n",
       "2669     900\n",
       "2670     840\n",
       "Name: duration_hour, Length: 13351, dtype: int32"
      ]
     },
     "execution_count": 55,
     "metadata": {},
     "output_type": "execute_result"
    }
   ],
   "source": [
    "final_df['duration_hour']*60"
   ]
  },
  {
   "cell_type": "code",
   "execution_count": 56,
   "id": "2b730f80",
   "metadata": {},
   "outputs": [],
   "source": [
    "final_df['duration_hour'] = final_df['duration_hour']*60"
   ]
  },
  {
   "cell_type": "code",
   "execution_count": 57,
   "id": "70ecf194",
   "metadata": {},
   "outputs": [
    {
     "data": {
      "text/plain": [
       "0       50m\n",
       "1       25m\n",
       "2       NaN\n",
       "3       25m\n",
       "4       45m\n",
       "       ... \n",
       "2666    55m\n",
       "2667    35m\n",
       "2668    35m\n",
       "2669    15m\n",
       "2670    20m\n",
       "Name: Duration, Length: 13351, dtype: object"
      ]
     },
     "execution_count": 57,
     "metadata": {},
     "output_type": "execute_result"
    }
   ],
   "source": [
    "final_df['Duration'].str.split(' ').str[1]"
   ]
  },
  {
   "cell_type": "code",
   "execution_count": 58,
   "id": "15c3602e",
   "metadata": {},
   "outputs": [],
   "source": [
    "final_df['duration_min']=final_df['Duration'].str.split(' ').str[1].str.split('m').str[0]"
   ]
  },
  {
   "cell_type": "code",
   "execution_count": 59,
   "id": "21f9c094",
   "metadata": {
    "scrolled": true
   },
   "outputs": [
    {
     "data": {
      "text/plain": [
       "0        50\n",
       "1        25\n",
       "2       NaN\n",
       "3        25\n",
       "4        45\n",
       "       ... \n",
       "2666     55\n",
       "2667     35\n",
       "2668     35\n",
       "2669     15\n",
       "2670     20\n",
       "Name: duration_min, Length: 13351, dtype: object"
      ]
     },
     "execution_count": 59,
     "metadata": {},
     "output_type": "execute_result"
    }
   ],
   "source": [
    "final_df['duration_min']"
   ]
  },
  {
   "cell_type": "code",
   "execution_count": 60,
   "id": "d9ab0d59",
   "metadata": {},
   "outputs": [
    {
     "data": {
      "text/plain": [
       "dtype('O')"
      ]
     },
     "execution_count": 60,
     "metadata": {},
     "output_type": "execute_result"
    }
   ],
   "source": [
    "final_df['duration_min'].dtype"
   ]
  },
  {
   "cell_type": "code",
   "execution_count": 61,
   "id": "0813ead3",
   "metadata": {},
   "outputs": [
    {
     "name": "stderr",
     "output_type": "stream",
     "text": [
      "C:\\Users\\Muthu Ishwarya\\AppData\\Local\\Temp\\ipykernel_14704\\29127689.py:1: DeprecationWarning: `np.float` is a deprecated alias for the builtin `float`. To silence this warning, use `float` by itself. Doing this will not modify any behavior and is safe. If you specifically wanted the numpy scalar type, use `np.float64` here.\n",
      "Deprecated in NumPy 1.20; for more details and guidance: https://numpy.org/devdocs/release/1.20.0-notes.html#deprecations\n",
      "  final_df['duration_min']=final_df['duration_min'].astype(np.float).astype(\"Int32\")\n"
     ]
    }
   ],
   "source": [
    "final_df['duration_min']=final_df['duration_min'].astype(np.float).astype(\"Int32\")"
   ]
  },
  {
   "cell_type": "code",
   "execution_count": 62,
   "id": "1cf8e8c8",
   "metadata": {
    "scrolled": true
   },
   "outputs": [
    {
     "data": {
      "text/plain": [
       "0         50\n",
       "1         25\n",
       "2       <NA>\n",
       "3         25\n",
       "4         45\n",
       "        ... \n",
       "2666      55\n",
       "2667      35\n",
       "2668      35\n",
       "2669      15\n",
       "2670      20\n",
       "Name: duration_min, Length: 13351, dtype: Int32"
      ]
     },
     "execution_count": 62,
     "metadata": {},
     "output_type": "execute_result"
    }
   ],
   "source": [
    "final_df['duration_min']"
   ]
  },
  {
   "cell_type": "code",
   "execution_count": 63,
   "id": "b794831f",
   "metadata": {
    "scrolled": true
   },
   "outputs": [
    {
     "data": {
      "text/plain": [
       "1283"
      ]
     },
     "execution_count": 63,
     "metadata": {},
     "output_type": "execute_result"
    }
   ],
   "source": [
    "final_df['duration_min'].isnull().sum()"
   ]
  },
  {
   "cell_type": "code",
   "execution_count": 64,
   "id": "5fc2b2da",
   "metadata": {},
   "outputs": [],
   "source": [
    "final_df['duration_min']=final_df['duration_min'].fillna(0)"
   ]
  },
  {
   "cell_type": "code",
   "execution_count": 65,
   "id": "e16dccf5",
   "metadata": {},
   "outputs": [],
   "source": [
    "final_df['Duration']=final_df['duration_hour']+final_df['duration_min']"
   ]
  },
  {
   "cell_type": "code",
   "execution_count": 66,
   "id": "05c45465",
   "metadata": {},
   "outputs": [
    {
     "data": {
      "text/plain": [
       "0        170\n",
       "1        445\n",
       "2       1140\n",
       "3        325\n",
       "4        285\n",
       "        ... \n",
       "2666    1435\n",
       "2667     155\n",
       "2668     395\n",
       "2669     915\n",
       "2670     860\n",
       "Name: Duration, Length: 13351, dtype: Int32"
      ]
     },
     "execution_count": 66,
     "metadata": {},
     "output_type": "execute_result"
    }
   ],
   "source": [
    "final_df['Duration']"
   ]
  },
  {
   "cell_type": "code",
   "execution_count": 67,
   "id": "e562425d",
   "metadata": {},
   "outputs": [
    {
     "data": {
      "text/html": [
       "<div>\n",
       "<style scoped>\n",
       "    .dataframe tbody tr th:only-of-type {\n",
       "        vertical-align: middle;\n",
       "    }\n",
       "\n",
       "    .dataframe tbody tr th {\n",
       "        vertical-align: top;\n",
       "    }\n",
       "\n",
       "    .dataframe thead th {\n",
       "        text-align: right;\n",
       "    }\n",
       "</style>\n",
       "<table border=\"1\" class=\"dataframe\">\n",
       "  <thead>\n",
       "    <tr style=\"text-align: right;\">\n",
       "      <th></th>\n",
       "      <th>Airline</th>\n",
       "      <th>Source</th>\n",
       "      <th>Destination</th>\n",
       "      <th>Duration</th>\n",
       "      <th>Total_Stops</th>\n",
       "      <th>Additional_Info</th>\n",
       "      <th>Price</th>\n",
       "      <th>Date</th>\n",
       "      <th>Month</th>\n",
       "      <th>Year</th>\n",
       "      <th>Arrival_hour</th>\n",
       "      <th>Arrival_min</th>\n",
       "      <th>Dept_hour</th>\n",
       "      <th>Dept_min</th>\n",
       "      <th>duration_hour</th>\n",
       "      <th>duration_min</th>\n",
       "    </tr>\n",
       "  </thead>\n",
       "  <tbody>\n",
       "    <tr>\n",
       "      <th>0</th>\n",
       "      <td>IndiGo</td>\n",
       "      <td>Banglore</td>\n",
       "      <td>New Delhi</td>\n",
       "      <td>170</td>\n",
       "      <td>0.0</td>\n",
       "      <td>No info</td>\n",
       "      <td>3897.0</td>\n",
       "      <td>24</td>\n",
       "      <td>3</td>\n",
       "      <td>2019</td>\n",
       "      <td>1</td>\n",
       "      <td>10</td>\n",
       "      <td>22</td>\n",
       "      <td>20</td>\n",
       "      <td>120</td>\n",
       "      <td>50</td>\n",
       "    </tr>\n",
       "    <tr>\n",
       "      <th>1</th>\n",
       "      <td>Air India</td>\n",
       "      <td>Kolkata</td>\n",
       "      <td>Banglore</td>\n",
       "      <td>445</td>\n",
       "      <td>2.0</td>\n",
       "      <td>No info</td>\n",
       "      <td>7662.0</td>\n",
       "      <td>1</td>\n",
       "      <td>5</td>\n",
       "      <td>2019</td>\n",
       "      <td>13</td>\n",
       "      <td>15</td>\n",
       "      <td>5</td>\n",
       "      <td>50</td>\n",
       "      <td>420</td>\n",
       "      <td>25</td>\n",
       "    </tr>\n",
       "    <tr>\n",
       "      <th>2</th>\n",
       "      <td>Jet Airways</td>\n",
       "      <td>Delhi</td>\n",
       "      <td>Cochin</td>\n",
       "      <td>1140</td>\n",
       "      <td>2.0</td>\n",
       "      <td>No info</td>\n",
       "      <td>13882.0</td>\n",
       "      <td>9</td>\n",
       "      <td>6</td>\n",
       "      <td>2019</td>\n",
       "      <td>4</td>\n",
       "      <td>25</td>\n",
       "      <td>9</td>\n",
       "      <td>25</td>\n",
       "      <td>1140</td>\n",
       "      <td>0</td>\n",
       "    </tr>\n",
       "    <tr>\n",
       "      <th>3</th>\n",
       "      <td>IndiGo</td>\n",
       "      <td>Kolkata</td>\n",
       "      <td>Banglore</td>\n",
       "      <td>325</td>\n",
       "      <td>1.0</td>\n",
       "      <td>No info</td>\n",
       "      <td>6218.0</td>\n",
       "      <td>12</td>\n",
       "      <td>5</td>\n",
       "      <td>2019</td>\n",
       "      <td>23</td>\n",
       "      <td>30</td>\n",
       "      <td>18</td>\n",
       "      <td>5</td>\n",
       "      <td>300</td>\n",
       "      <td>25</td>\n",
       "    </tr>\n",
       "    <tr>\n",
       "      <th>4</th>\n",
       "      <td>IndiGo</td>\n",
       "      <td>Banglore</td>\n",
       "      <td>New Delhi</td>\n",
       "      <td>285</td>\n",
       "      <td>1.0</td>\n",
       "      <td>No info</td>\n",
       "      <td>13302.0</td>\n",
       "      <td>1</td>\n",
       "      <td>3</td>\n",
       "      <td>2019</td>\n",
       "      <td>21</td>\n",
       "      <td>35</td>\n",
       "      <td>16</td>\n",
       "      <td>50</td>\n",
       "      <td>240</td>\n",
       "      <td>45</td>\n",
       "    </tr>\n",
       "  </tbody>\n",
       "</table>\n",
       "</div>"
      ],
      "text/plain": [
       "       Airline    Source Destination  Duration  Total_Stops Additional_Info  \\\n",
       "0       IndiGo  Banglore   New Delhi       170          0.0         No info   \n",
       "1    Air India   Kolkata    Banglore       445          2.0         No info   \n",
       "2  Jet Airways     Delhi      Cochin      1140          2.0         No info   \n",
       "3       IndiGo   Kolkata    Banglore       325          1.0         No info   \n",
       "4       IndiGo  Banglore   New Delhi       285          1.0         No info   \n",
       "\n",
       "     Price  Date  Month  Year  Arrival_hour  Arrival_min  Dept_hour  Dept_min  \\\n",
       "0   3897.0    24      3  2019             1           10         22        20   \n",
       "1   7662.0     1      5  2019            13           15          5        50   \n",
       "2  13882.0     9      6  2019             4           25          9        25   \n",
       "3   6218.0    12      5  2019            23           30         18         5   \n",
       "4  13302.0     1      3  2019            21           35         16        50   \n",
       "\n",
       "   duration_hour  duration_min  \n",
       "0            120            50  \n",
       "1            420            25  \n",
       "2           1140             0  \n",
       "3            300            25  \n",
       "4            240            45  "
      ]
     },
     "execution_count": 67,
     "metadata": {},
     "output_type": "execute_result"
    }
   ],
   "source": [
    "final_df.head()"
   ]
  },
  {
   "cell_type": "code",
   "execution_count": 68,
   "id": "fbf6af6c",
   "metadata": {},
   "outputs": [],
   "source": [
    "#final_df.replace(final_df[\"Duration\"]==final_df[\"Duration_Mins\"])"
   ]
  },
  {
   "cell_type": "code",
   "execution_count": 69,
   "id": "a8709344",
   "metadata": {},
   "outputs": [],
   "source": [
    "final_df.rename(columns = {'Duration':'Duration_Mins'}, inplace = True)"
   ]
  },
  {
   "cell_type": "code",
   "execution_count": 70,
   "id": "589590fc",
   "metadata": {},
   "outputs": [
    {
     "data": {
      "text/html": [
       "<div>\n",
       "<style scoped>\n",
       "    .dataframe tbody tr th:only-of-type {\n",
       "        vertical-align: middle;\n",
       "    }\n",
       "\n",
       "    .dataframe tbody tr th {\n",
       "        vertical-align: top;\n",
       "    }\n",
       "\n",
       "    .dataframe thead th {\n",
       "        text-align: right;\n",
       "    }\n",
       "</style>\n",
       "<table border=\"1\" class=\"dataframe\">\n",
       "  <thead>\n",
       "    <tr style=\"text-align: right;\">\n",
       "      <th></th>\n",
       "      <th>Airline</th>\n",
       "      <th>Source</th>\n",
       "      <th>Destination</th>\n",
       "      <th>Duration_Mins</th>\n",
       "      <th>Total_Stops</th>\n",
       "      <th>Additional_Info</th>\n",
       "      <th>Price</th>\n",
       "      <th>Date</th>\n",
       "      <th>Month</th>\n",
       "      <th>Year</th>\n",
       "      <th>Arrival_hour</th>\n",
       "      <th>Arrival_min</th>\n",
       "      <th>Dept_hour</th>\n",
       "      <th>Dept_min</th>\n",
       "      <th>duration_hour</th>\n",
       "      <th>duration_min</th>\n",
       "    </tr>\n",
       "  </thead>\n",
       "  <tbody>\n",
       "    <tr>\n",
       "      <th>0</th>\n",
       "      <td>IndiGo</td>\n",
       "      <td>Banglore</td>\n",
       "      <td>New Delhi</td>\n",
       "      <td>170</td>\n",
       "      <td>0.0</td>\n",
       "      <td>No info</td>\n",
       "      <td>3897.0</td>\n",
       "      <td>24</td>\n",
       "      <td>3</td>\n",
       "      <td>2019</td>\n",
       "      <td>1</td>\n",
       "      <td>10</td>\n",
       "      <td>22</td>\n",
       "      <td>20</td>\n",
       "      <td>120</td>\n",
       "      <td>50</td>\n",
       "    </tr>\n",
       "    <tr>\n",
       "      <th>1</th>\n",
       "      <td>Air India</td>\n",
       "      <td>Kolkata</td>\n",
       "      <td>Banglore</td>\n",
       "      <td>445</td>\n",
       "      <td>2.0</td>\n",
       "      <td>No info</td>\n",
       "      <td>7662.0</td>\n",
       "      <td>1</td>\n",
       "      <td>5</td>\n",
       "      <td>2019</td>\n",
       "      <td>13</td>\n",
       "      <td>15</td>\n",
       "      <td>5</td>\n",
       "      <td>50</td>\n",
       "      <td>420</td>\n",
       "      <td>25</td>\n",
       "    </tr>\n",
       "    <tr>\n",
       "      <th>2</th>\n",
       "      <td>Jet Airways</td>\n",
       "      <td>Delhi</td>\n",
       "      <td>Cochin</td>\n",
       "      <td>1140</td>\n",
       "      <td>2.0</td>\n",
       "      <td>No info</td>\n",
       "      <td>13882.0</td>\n",
       "      <td>9</td>\n",
       "      <td>6</td>\n",
       "      <td>2019</td>\n",
       "      <td>4</td>\n",
       "      <td>25</td>\n",
       "      <td>9</td>\n",
       "      <td>25</td>\n",
       "      <td>1140</td>\n",
       "      <td>0</td>\n",
       "    </tr>\n",
       "    <tr>\n",
       "      <th>3</th>\n",
       "      <td>IndiGo</td>\n",
       "      <td>Kolkata</td>\n",
       "      <td>Banglore</td>\n",
       "      <td>325</td>\n",
       "      <td>1.0</td>\n",
       "      <td>No info</td>\n",
       "      <td>6218.0</td>\n",
       "      <td>12</td>\n",
       "      <td>5</td>\n",
       "      <td>2019</td>\n",
       "      <td>23</td>\n",
       "      <td>30</td>\n",
       "      <td>18</td>\n",
       "      <td>5</td>\n",
       "      <td>300</td>\n",
       "      <td>25</td>\n",
       "    </tr>\n",
       "    <tr>\n",
       "      <th>4</th>\n",
       "      <td>IndiGo</td>\n",
       "      <td>Banglore</td>\n",
       "      <td>New Delhi</td>\n",
       "      <td>285</td>\n",
       "      <td>1.0</td>\n",
       "      <td>No info</td>\n",
       "      <td>13302.0</td>\n",
       "      <td>1</td>\n",
       "      <td>3</td>\n",
       "      <td>2019</td>\n",
       "      <td>21</td>\n",
       "      <td>35</td>\n",
       "      <td>16</td>\n",
       "      <td>50</td>\n",
       "      <td>240</td>\n",
       "      <td>45</td>\n",
       "    </tr>\n",
       "  </tbody>\n",
       "</table>\n",
       "</div>"
      ],
      "text/plain": [
       "       Airline    Source Destination  Duration_Mins  Total_Stops  \\\n",
       "0       IndiGo  Banglore   New Delhi            170          0.0   \n",
       "1    Air India   Kolkata    Banglore            445          2.0   \n",
       "2  Jet Airways     Delhi      Cochin           1140          2.0   \n",
       "3       IndiGo   Kolkata    Banglore            325          1.0   \n",
       "4       IndiGo  Banglore   New Delhi            285          1.0   \n",
       "\n",
       "  Additional_Info    Price  Date  Month  Year  Arrival_hour  Arrival_min  \\\n",
       "0         No info   3897.0    24      3  2019             1           10   \n",
       "1         No info   7662.0     1      5  2019            13           15   \n",
       "2         No info  13882.0     9      6  2019             4           25   \n",
       "3         No info   6218.0    12      5  2019            23           30   \n",
       "4         No info  13302.0     1      3  2019            21           35   \n",
       "\n",
       "   Dept_hour  Dept_min  duration_hour  duration_min  \n",
       "0         22        20            120            50  \n",
       "1          5        50            420            25  \n",
       "2          9        25           1140             0  \n",
       "3         18         5            300            25  \n",
       "4         16        50            240            45  "
      ]
     },
     "execution_count": 70,
     "metadata": {},
     "output_type": "execute_result"
    }
   ],
   "source": [
    "final_df.head()"
   ]
  },
  {
   "cell_type": "code",
   "execution_count": 71,
   "id": "0acd68f0",
   "metadata": {
    "scrolled": false
   },
   "outputs": [
    {
     "name": "stdout",
     "output_type": "stream",
     "text": [
      "<class 'pandas.core.frame.DataFrame'>\n",
      "Int64Index: 13351 entries, 0 to 2670\n",
      "Data columns (total 16 columns):\n",
      " #   Column           Non-Null Count  Dtype  \n",
      "---  ------           --------------  -----  \n",
      " 0   Airline          13351 non-null  object \n",
      " 1   Source           13351 non-null  object \n",
      " 2   Destination      13351 non-null  object \n",
      " 3   Duration_Mins    13351 non-null  Int32  \n",
      " 4   Total_Stops      13350 non-null  float64\n",
      " 5   Additional_Info  13351 non-null  object \n",
      " 6   Price            10681 non-null  float64\n",
      " 7   Date             13351 non-null  int32  \n",
      " 8   Month            13351 non-null  int32  \n",
      " 9   Year             13351 non-null  int32  \n",
      " 10  Arrival_hour     13351 non-null  int32  \n",
      " 11  Arrival_min      13351 non-null  int32  \n",
      " 12  Dept_hour        13351 non-null  int32  \n",
      " 13  Dept_min         13351 non-null  int32  \n",
      " 14  duration_hour    13351 non-null  int32  \n",
      " 15  duration_min     13351 non-null  Int32  \n",
      "dtypes: Int32(2), float64(2), int32(8), object(4)\n",
      "memory usage: 1.2+ MB\n"
     ]
    }
   ],
   "source": [
    "final_df.info()"
   ]
  },
  {
   "cell_type": "markdown",
   "id": "be042bd3",
   "metadata": {},
   "source": [
    "# Categorical Features"
   ]
  },
  {
   "cell_type": "code",
   "execution_count": 72,
   "id": "575eadbc",
   "metadata": {
    "scrolled": false
   },
   "outputs": [
    {
     "data": {
      "text/plain": [
       "['IndiGo',\n",
       " 'Air India',\n",
       " 'Jet Airways',\n",
       " 'SpiceJet',\n",
       " 'Multiple carriers',\n",
       " 'GoAir',\n",
       " 'Vistara',\n",
       " 'Air Asia',\n",
       " 'Vistara Premium economy',\n",
       " 'Jet Airways Business',\n",
       " 'Multiple carriers Premium economy',\n",
       " 'Trujet']"
      ]
     },
     "execution_count": 72,
     "metadata": {},
     "output_type": "execute_result"
    }
   ],
   "source": [
    "list(final_df['Airline'].unique())"
   ]
  },
  {
   "cell_type": "code",
   "execution_count": 73,
   "id": "24716169",
   "metadata": {},
   "outputs": [
    {
     "data": {
      "text/plain": [
       "['Banglore', 'Kolkata', 'Delhi', 'Chennai', 'Mumbai']"
      ]
     },
     "execution_count": 73,
     "metadata": {},
     "output_type": "execute_result"
    }
   ],
   "source": [
    "list(final_df['Source'].unique())"
   ]
  },
  {
   "cell_type": "code",
   "execution_count": 74,
   "id": "29cdd92d",
   "metadata": {},
   "outputs": [
    {
     "data": {
      "text/plain": [
       "['New Delhi', 'Banglore', 'Cochin', 'Kolkata', 'Delhi', 'Hyderabad']"
      ]
     },
     "execution_count": 74,
     "metadata": {},
     "output_type": "execute_result"
    }
   ],
   "source": [
    "list(final_df['Destination'].unique())"
   ]
  },
  {
   "cell_type": "code",
   "execution_count": 75,
   "id": "79f1ac4c",
   "metadata": {
    "scrolled": true
   },
   "outputs": [
    {
     "data": {
      "text/plain": [
       "['No info',\n",
       " 'In-flight meal not included',\n",
       " 'No check-in baggage included',\n",
       " '1 Short layover',\n",
       " 'No Info',\n",
       " '1 Long layover',\n",
       " 'Change airports',\n",
       " 'Business class',\n",
       " 'Red-eye flight',\n",
       " '2 Long layover']"
      ]
     },
     "execution_count": 75,
     "metadata": {},
     "output_type": "execute_result"
    }
   ],
   "source": [
    "list (final_df['Additional_Info'].unique())"
   ]
  },
  {
   "cell_type": "code",
   "execution_count": 76,
   "id": "463c2378",
   "metadata": {},
   "outputs": [
    {
     "data": {
      "text/plain": [
       "No info                         10490\n",
       "In-flight meal not included      2426\n",
       "No check-in baggage included      396\n",
       "1 Long layover                     20\n",
       "Change airports                     8\n",
       "Business class                      5\n",
       "No Info                             3\n",
       "1 Short layover                     1\n",
       "Red-eye flight                      1\n",
       "2 Long layover                      1\n",
       "Name: Additional_Info, dtype: int64"
      ]
     },
     "execution_count": 76,
     "metadata": {},
     "output_type": "execute_result"
    }
   ],
   "source": [
    "final_df['Additional_Info'].value_counts()"
   ]
  },
  {
   "cell_type": "markdown",
   "id": "b2bb68fd",
   "metadata": {},
   "source": [
    "# Label Encoder"
   ]
  },
  {
   "cell_type": "code",
   "execution_count": 77,
   "id": "1ca14cad",
   "metadata": {},
   "outputs": [],
   "source": [
    "from sklearn.preprocessing import LabelEncoder\n",
    "labelencoder=LabelEncoder()"
   ]
  },
  {
   "cell_type": "code",
   "execution_count": 78,
   "id": "910bd1a7",
   "metadata": {},
   "outputs": [],
   "source": [
    "final_df['Airline']=labelencoder.fit_transform(final_df['Airline'])\n",
    "final_df['Source']=labelencoder.fit_transform(final_df['Source'])\n",
    "final_df['Destination']=labelencoder.fit_transform(final_df['Destination'])\n",
    "final_df['Additional_Info']=labelencoder.fit_transform(final_df['Additional_Info'])"
   ]
  },
  {
   "cell_type": "code",
   "execution_count": 79,
   "id": "8155844d",
   "metadata": {
    "scrolled": true
   },
   "outputs": [
    {
     "data": {
      "text/plain": [
       "0    3\n",
       "1    1\n",
       "2    4\n",
       "3    3\n",
       "4    3\n",
       "Name: Airline, dtype: int32"
      ]
     },
     "execution_count": 79,
     "metadata": {},
     "output_type": "execute_result"
    }
   ],
   "source": [
    "final_df['Airline'].head()"
   ]
  },
  {
   "cell_type": "code",
   "execution_count": 80,
   "id": "f47f132f",
   "metadata": {},
   "outputs": [
    {
     "data": {
      "text/plain": [
       "array([ 3,  1,  4,  8,  6,  2, 10,  0, 11,  5,  7,  9])"
      ]
     },
     "execution_count": 80,
     "metadata": {},
     "output_type": "execute_result"
    }
   ],
   "source": [
    "final_df['Airline'].unique()"
   ]
  },
  {
   "cell_type": "code",
   "execution_count": 81,
   "id": "52af8110",
   "metadata": {},
   "outputs": [
    {
     "data": {
      "text/plain": [
       "(13351, 16)"
      ]
     },
     "execution_count": 81,
     "metadata": {},
     "output_type": "execute_result"
    }
   ],
   "source": [
    "final_df.shape"
   ]
  },
  {
   "cell_type": "code",
   "execution_count": 82,
   "id": "a609716d",
   "metadata": {
    "scrolled": true
   },
   "outputs": [
    {
     "data": {
      "text/html": [
       "<div>\n",
       "<style scoped>\n",
       "    .dataframe tbody tr th:only-of-type {\n",
       "        vertical-align: middle;\n",
       "    }\n",
       "\n",
       "    .dataframe tbody tr th {\n",
       "        vertical-align: top;\n",
       "    }\n",
       "\n",
       "    .dataframe thead th {\n",
       "        text-align: right;\n",
       "    }\n",
       "</style>\n",
       "<table border=\"1\" class=\"dataframe\">\n",
       "  <thead>\n",
       "    <tr style=\"text-align: right;\">\n",
       "      <th></th>\n",
       "      <th>Airline</th>\n",
       "      <th>Source</th>\n",
       "      <th>Destination</th>\n",
       "      <th>Duration_Mins</th>\n",
       "      <th>Total_Stops</th>\n",
       "      <th>Additional_Info</th>\n",
       "      <th>Price</th>\n",
       "      <th>Date</th>\n",
       "      <th>Month</th>\n",
       "      <th>Year</th>\n",
       "      <th>Arrival_hour</th>\n",
       "      <th>Arrival_min</th>\n",
       "      <th>Dept_hour</th>\n",
       "      <th>Dept_min</th>\n",
       "      <th>duration_hour</th>\n",
       "      <th>duration_min</th>\n",
       "    </tr>\n",
       "  </thead>\n",
       "  <tbody>\n",
       "    <tr>\n",
       "      <th>0</th>\n",
       "      <td>3</td>\n",
       "      <td>0</td>\n",
       "      <td>5</td>\n",
       "      <td>170</td>\n",
       "      <td>0.0</td>\n",
       "      <td>8</td>\n",
       "      <td>3897.0</td>\n",
       "      <td>24</td>\n",
       "      <td>3</td>\n",
       "      <td>2019</td>\n",
       "      <td>1</td>\n",
       "      <td>10</td>\n",
       "      <td>22</td>\n",
       "      <td>20</td>\n",
       "      <td>120</td>\n",
       "      <td>50</td>\n",
       "    </tr>\n",
       "    <tr>\n",
       "      <th>1</th>\n",
       "      <td>1</td>\n",
       "      <td>3</td>\n",
       "      <td>0</td>\n",
       "      <td>445</td>\n",
       "      <td>2.0</td>\n",
       "      <td>8</td>\n",
       "      <td>7662.0</td>\n",
       "      <td>1</td>\n",
       "      <td>5</td>\n",
       "      <td>2019</td>\n",
       "      <td>13</td>\n",
       "      <td>15</td>\n",
       "      <td>5</td>\n",
       "      <td>50</td>\n",
       "      <td>420</td>\n",
       "      <td>25</td>\n",
       "    </tr>\n",
       "    <tr>\n",
       "      <th>2</th>\n",
       "      <td>4</td>\n",
       "      <td>2</td>\n",
       "      <td>1</td>\n",
       "      <td>1140</td>\n",
       "      <td>2.0</td>\n",
       "      <td>8</td>\n",
       "      <td>13882.0</td>\n",
       "      <td>9</td>\n",
       "      <td>6</td>\n",
       "      <td>2019</td>\n",
       "      <td>4</td>\n",
       "      <td>25</td>\n",
       "      <td>9</td>\n",
       "      <td>25</td>\n",
       "      <td>1140</td>\n",
       "      <td>0</td>\n",
       "    </tr>\n",
       "    <tr>\n",
       "      <th>3</th>\n",
       "      <td>3</td>\n",
       "      <td>3</td>\n",
       "      <td>0</td>\n",
       "      <td>325</td>\n",
       "      <td>1.0</td>\n",
       "      <td>8</td>\n",
       "      <td>6218.0</td>\n",
       "      <td>12</td>\n",
       "      <td>5</td>\n",
       "      <td>2019</td>\n",
       "      <td>23</td>\n",
       "      <td>30</td>\n",
       "      <td>18</td>\n",
       "      <td>5</td>\n",
       "      <td>300</td>\n",
       "      <td>25</td>\n",
       "    </tr>\n",
       "    <tr>\n",
       "      <th>4</th>\n",
       "      <td>3</td>\n",
       "      <td>0</td>\n",
       "      <td>5</td>\n",
       "      <td>285</td>\n",
       "      <td>1.0</td>\n",
       "      <td>8</td>\n",
       "      <td>13302.0</td>\n",
       "      <td>1</td>\n",
       "      <td>3</td>\n",
       "      <td>2019</td>\n",
       "      <td>21</td>\n",
       "      <td>35</td>\n",
       "      <td>16</td>\n",
       "      <td>50</td>\n",
       "      <td>240</td>\n",
       "      <td>45</td>\n",
       "    </tr>\n",
       "  </tbody>\n",
       "</table>\n",
       "</div>"
      ],
      "text/plain": [
       "   Airline  Source  Destination  Duration_Mins  Total_Stops  Additional_Info  \\\n",
       "0        3       0            5            170          0.0                8   \n",
       "1        1       3            0            445          2.0                8   \n",
       "2        4       2            1           1140          2.0                8   \n",
       "3        3       3            0            325          1.0                8   \n",
       "4        3       0            5            285          1.0                8   \n",
       "\n",
       "     Price  Date  Month  Year  Arrival_hour  Arrival_min  Dept_hour  Dept_min  \\\n",
       "0   3897.0    24      3  2019             1           10         22        20   \n",
       "1   7662.0     1      5  2019            13           15          5        50   \n",
       "2  13882.0     9      6  2019             4           25          9        25   \n",
       "3   6218.0    12      5  2019            23           30         18         5   \n",
       "4  13302.0     1      3  2019            21           35         16        50   \n",
       "\n",
       "   duration_hour  duration_min  \n",
       "0            120            50  \n",
       "1            420            25  \n",
       "2           1140             0  \n",
       "3            300            25  \n",
       "4            240            45  "
      ]
     },
     "execution_count": 82,
     "metadata": {},
     "output_type": "execute_result"
    }
   ],
   "source": [
    "final_df.head()"
   ]
  },
  {
   "cell_type": "code",
   "execution_count": 83,
   "id": "209f2bae",
   "metadata": {
    "scrolled": false
   },
   "outputs": [
    {
     "name": "stdout",
     "output_type": "stream",
     "text": [
      "<class 'pandas.core.frame.DataFrame'>\n",
      "Int64Index: 13351 entries, 0 to 2670\n",
      "Data columns (total 16 columns):\n",
      " #   Column           Non-Null Count  Dtype  \n",
      "---  ------           --------------  -----  \n",
      " 0   Airline          13351 non-null  int32  \n",
      " 1   Source           13351 non-null  int32  \n",
      " 2   Destination      13351 non-null  int32  \n",
      " 3   Duration_Mins    13351 non-null  Int32  \n",
      " 4   Total_Stops      13350 non-null  float64\n",
      " 5   Additional_Info  13351 non-null  int32  \n",
      " 6   Price            10681 non-null  float64\n",
      " 7   Date             13351 non-null  int32  \n",
      " 8   Month            13351 non-null  int32  \n",
      " 9   Year             13351 non-null  int32  \n",
      " 10  Arrival_hour     13351 non-null  int32  \n",
      " 11  Arrival_min      13351 non-null  int32  \n",
      " 12  Dept_hour        13351 non-null  int32  \n",
      " 13  Dept_min         13351 non-null  int32  \n",
      " 14  duration_hour    13351 non-null  int32  \n",
      " 15  duration_min     13351 non-null  Int32  \n",
      "dtypes: Int32(2), float64(2), int32(12)\n",
      "memory usage: 1.0 MB\n"
     ]
    }
   ],
   "source": [
    "final_df.info()"
   ]
  },
  {
   "cell_type": "code",
   "execution_count": 84,
   "id": "3798264d",
   "metadata": {
    "scrolled": true
   },
   "outputs": [
    {
     "data": {
      "text/plain": [
       "Airline               0\n",
       "Source                0\n",
       "Destination           0\n",
       "Duration_Mins         0\n",
       "Total_Stops           1\n",
       "Additional_Info       0\n",
       "Price              2670\n",
       "Date                  0\n",
       "Month                 0\n",
       "Year                  0\n",
       "Arrival_hour          0\n",
       "Arrival_min           0\n",
       "Dept_hour             0\n",
       "Dept_min              0\n",
       "duration_hour         0\n",
       "duration_min          0\n",
       "dtype: int64"
      ]
     },
     "execution_count": 84,
     "metadata": {},
     "output_type": "execute_result"
    }
   ],
   "source": [
    "final_df.isnull().sum()"
   ]
  },
  {
   "cell_type": "code",
   "execution_count": 85,
   "id": "3ff95b7a",
   "metadata": {},
   "outputs": [],
   "source": [
    "final_df.dropna(inplace=True)"
   ]
  },
  {
   "cell_type": "code",
   "execution_count": 86,
   "id": "3d548142",
   "metadata": {
    "scrolled": true
   },
   "outputs": [
    {
     "data": {
      "text/plain": [
       "(10680, 16)"
      ]
     },
     "execution_count": 86,
     "metadata": {},
     "output_type": "execute_result"
    }
   ],
   "source": [
    "final_df.shape"
   ]
  },
  {
   "cell_type": "code",
   "execution_count": 87,
   "id": "ace2db61",
   "metadata": {},
   "outputs": [
    {
     "data": {
      "text/plain": [
       "Airline            0\n",
       "Source             0\n",
       "Destination        0\n",
       "Duration_Mins      0\n",
       "Total_Stops        0\n",
       "Additional_Info    0\n",
       "Price              0\n",
       "Date               0\n",
       "Month              0\n",
       "Year               0\n",
       "Arrival_hour       0\n",
       "Arrival_min        0\n",
       "Dept_hour          0\n",
       "Dept_min           0\n",
       "duration_hour      0\n",
       "duration_min       0\n",
       "dtype: int64"
      ]
     },
     "execution_count": 87,
     "metadata": {},
     "output_type": "execute_result"
    }
   ],
   "source": [
    "final_df.isnull().sum()"
   ]
  },
  {
   "cell_type": "markdown",
   "id": "a744811b",
   "metadata": {},
   "source": [
    "# One Hot Encoder"
   ]
  },
  {
   "cell_type": "code",
   "execution_count": 88,
   "id": "59801d6a",
   "metadata": {},
   "outputs": [],
   "source": [
    "from sklearn.preprocessing import OneHotEncoder\n",
    "ohe= OneHotEncoder()"
   ]
  },
  {
   "cell_type": "raw",
   "id": "f93a410b",
   "metadata": {},
   "source": [
    "final_df['Airline']=ohe.fit_transform(final_df['Airline'])\n",
    "final_df['Source']=ohe.fit_transform(final_df['Source'])\n",
    "final_df['Destination']=ohe.fit_transform(final_df['Destination'])\n",
    "final_df['Additional_Info']=ohe.fit_transform(final_df['Additional_Info'])"
   ]
  },
  {
   "cell_type": "code",
   "execution_count": 89,
   "id": "afc29bd4",
   "metadata": {},
   "outputs": [
    {
     "data": {
      "text/html": [
       "<div>\n",
       "<style scoped>\n",
       "    .dataframe tbody tr th:only-of-type {\n",
       "        vertical-align: middle;\n",
       "    }\n",
       "\n",
       "    .dataframe tbody tr th {\n",
       "        vertical-align: top;\n",
       "    }\n",
       "\n",
       "    .dataframe thead th {\n",
       "        text-align: right;\n",
       "    }\n",
       "</style>\n",
       "<table border=\"1\" class=\"dataframe\">\n",
       "  <thead>\n",
       "    <tr style=\"text-align: right;\">\n",
       "      <th></th>\n",
       "      <th>0</th>\n",
       "      <th>1</th>\n",
       "      <th>2</th>\n",
       "      <th>3</th>\n",
       "      <th>4</th>\n",
       "      <th>5</th>\n",
       "      <th>6</th>\n",
       "      <th>7</th>\n",
       "      <th>8</th>\n",
       "      <th>9</th>\n",
       "      <th>10</th>\n",
       "      <th>11</th>\n",
       "    </tr>\n",
       "  </thead>\n",
       "  <tbody>\n",
       "    <tr>\n",
       "      <th>0</th>\n",
       "      <td>0</td>\n",
       "      <td>0</td>\n",
       "      <td>0</td>\n",
       "      <td>1</td>\n",
       "      <td>0</td>\n",
       "      <td>0</td>\n",
       "      <td>0</td>\n",
       "      <td>0</td>\n",
       "      <td>0</td>\n",
       "      <td>0</td>\n",
       "      <td>0</td>\n",
       "      <td>0</td>\n",
       "    </tr>\n",
       "    <tr>\n",
       "      <th>1</th>\n",
       "      <td>0</td>\n",
       "      <td>1</td>\n",
       "      <td>0</td>\n",
       "      <td>0</td>\n",
       "      <td>0</td>\n",
       "      <td>0</td>\n",
       "      <td>0</td>\n",
       "      <td>0</td>\n",
       "      <td>0</td>\n",
       "      <td>0</td>\n",
       "      <td>0</td>\n",
       "      <td>0</td>\n",
       "    </tr>\n",
       "    <tr>\n",
       "      <th>2</th>\n",
       "      <td>0</td>\n",
       "      <td>0</td>\n",
       "      <td>0</td>\n",
       "      <td>0</td>\n",
       "      <td>1</td>\n",
       "      <td>0</td>\n",
       "      <td>0</td>\n",
       "      <td>0</td>\n",
       "      <td>0</td>\n",
       "      <td>0</td>\n",
       "      <td>0</td>\n",
       "      <td>0</td>\n",
       "    </tr>\n",
       "    <tr>\n",
       "      <th>3</th>\n",
       "      <td>0</td>\n",
       "      <td>0</td>\n",
       "      <td>0</td>\n",
       "      <td>1</td>\n",
       "      <td>0</td>\n",
       "      <td>0</td>\n",
       "      <td>0</td>\n",
       "      <td>0</td>\n",
       "      <td>0</td>\n",
       "      <td>0</td>\n",
       "      <td>0</td>\n",
       "      <td>0</td>\n",
       "    </tr>\n",
       "    <tr>\n",
       "      <th>4</th>\n",
       "      <td>0</td>\n",
       "      <td>0</td>\n",
       "      <td>0</td>\n",
       "      <td>1</td>\n",
       "      <td>0</td>\n",
       "      <td>0</td>\n",
       "      <td>0</td>\n",
       "      <td>0</td>\n",
       "      <td>0</td>\n",
       "      <td>0</td>\n",
       "      <td>0</td>\n",
       "      <td>0</td>\n",
       "    </tr>\n",
       "    <tr>\n",
       "      <th>...</th>\n",
       "      <td>...</td>\n",
       "      <td>...</td>\n",
       "      <td>...</td>\n",
       "      <td>...</td>\n",
       "      <td>...</td>\n",
       "      <td>...</td>\n",
       "      <td>...</td>\n",
       "      <td>...</td>\n",
       "      <td>...</td>\n",
       "      <td>...</td>\n",
       "      <td>...</td>\n",
       "      <td>...</td>\n",
       "    </tr>\n",
       "    <tr>\n",
       "      <th>10678</th>\n",
       "      <td>1</td>\n",
       "      <td>0</td>\n",
       "      <td>0</td>\n",
       "      <td>0</td>\n",
       "      <td>0</td>\n",
       "      <td>0</td>\n",
       "      <td>0</td>\n",
       "      <td>0</td>\n",
       "      <td>0</td>\n",
       "      <td>0</td>\n",
       "      <td>0</td>\n",
       "      <td>0</td>\n",
       "    </tr>\n",
       "    <tr>\n",
       "      <th>10679</th>\n",
       "      <td>0</td>\n",
       "      <td>1</td>\n",
       "      <td>0</td>\n",
       "      <td>0</td>\n",
       "      <td>0</td>\n",
       "      <td>0</td>\n",
       "      <td>0</td>\n",
       "      <td>0</td>\n",
       "      <td>0</td>\n",
       "      <td>0</td>\n",
       "      <td>0</td>\n",
       "      <td>0</td>\n",
       "    </tr>\n",
       "    <tr>\n",
       "      <th>10680</th>\n",
       "      <td>0</td>\n",
       "      <td>0</td>\n",
       "      <td>0</td>\n",
       "      <td>0</td>\n",
       "      <td>1</td>\n",
       "      <td>0</td>\n",
       "      <td>0</td>\n",
       "      <td>0</td>\n",
       "      <td>0</td>\n",
       "      <td>0</td>\n",
       "      <td>0</td>\n",
       "      <td>0</td>\n",
       "    </tr>\n",
       "    <tr>\n",
       "      <th>10681</th>\n",
       "      <td>0</td>\n",
       "      <td>0</td>\n",
       "      <td>0</td>\n",
       "      <td>0</td>\n",
       "      <td>0</td>\n",
       "      <td>0</td>\n",
       "      <td>0</td>\n",
       "      <td>0</td>\n",
       "      <td>0</td>\n",
       "      <td>0</td>\n",
       "      <td>1</td>\n",
       "      <td>0</td>\n",
       "    </tr>\n",
       "    <tr>\n",
       "      <th>10682</th>\n",
       "      <td>0</td>\n",
       "      <td>1</td>\n",
       "      <td>0</td>\n",
       "      <td>0</td>\n",
       "      <td>0</td>\n",
       "      <td>0</td>\n",
       "      <td>0</td>\n",
       "      <td>0</td>\n",
       "      <td>0</td>\n",
       "      <td>0</td>\n",
       "      <td>0</td>\n",
       "      <td>0</td>\n",
       "    </tr>\n",
       "  </tbody>\n",
       "</table>\n",
       "<p>10680 rows × 12 columns</p>\n",
       "</div>"
      ],
      "text/plain": [
       "       0   1   2   3   4   5   6   7   8   9   10  11\n",
       "0       0   0   0   1   0   0   0   0   0   0   0   0\n",
       "1       0   1   0   0   0   0   0   0   0   0   0   0\n",
       "2       0   0   0   0   1   0   0   0   0   0   0   0\n",
       "3       0   0   0   1   0   0   0   0   0   0   0   0\n",
       "4       0   0   0   1   0   0   0   0   0   0   0   0\n",
       "...    ..  ..  ..  ..  ..  ..  ..  ..  ..  ..  ..  ..\n",
       "10678   1   0   0   0   0   0   0   0   0   0   0   0\n",
       "10679   0   1   0   0   0   0   0   0   0   0   0   0\n",
       "10680   0   0   0   0   1   0   0   0   0   0   0   0\n",
       "10681   0   0   0   0   0   0   0   0   0   0   1   0\n",
       "10682   0   1   0   0   0   0   0   0   0   0   0   0\n",
       "\n",
       "[10680 rows x 12 columns]"
      ]
     },
     "execution_count": 89,
     "metadata": {},
     "output_type": "execute_result"
    }
   ],
   "source": [
    "pd.get_dummies(final_df['Airline'])"
   ]
  },
  {
   "cell_type": "code",
   "execution_count": 90,
   "id": "dfd00826",
   "metadata": {},
   "outputs": [
    {
     "data": {
      "text/html": [
       "<div>\n",
       "<style scoped>\n",
       "    .dataframe tbody tr th:only-of-type {\n",
       "        vertical-align: middle;\n",
       "    }\n",
       "\n",
       "    .dataframe tbody tr th {\n",
       "        vertical-align: top;\n",
       "    }\n",
       "\n",
       "    .dataframe thead th {\n",
       "        text-align: right;\n",
       "    }\n",
       "</style>\n",
       "<table border=\"1\" class=\"dataframe\">\n",
       "  <thead>\n",
       "    <tr style=\"text-align: right;\">\n",
       "      <th></th>\n",
       "      <th>0</th>\n",
       "      <th>1</th>\n",
       "      <th>2</th>\n",
       "      <th>3</th>\n",
       "      <th>4</th>\n",
       "    </tr>\n",
       "  </thead>\n",
       "  <tbody>\n",
       "    <tr>\n",
       "      <th>0</th>\n",
       "      <td>1</td>\n",
       "      <td>0</td>\n",
       "      <td>0</td>\n",
       "      <td>0</td>\n",
       "      <td>0</td>\n",
       "    </tr>\n",
       "    <tr>\n",
       "      <th>1</th>\n",
       "      <td>0</td>\n",
       "      <td>0</td>\n",
       "      <td>0</td>\n",
       "      <td>1</td>\n",
       "      <td>0</td>\n",
       "    </tr>\n",
       "    <tr>\n",
       "      <th>2</th>\n",
       "      <td>0</td>\n",
       "      <td>0</td>\n",
       "      <td>1</td>\n",
       "      <td>0</td>\n",
       "      <td>0</td>\n",
       "    </tr>\n",
       "    <tr>\n",
       "      <th>3</th>\n",
       "      <td>0</td>\n",
       "      <td>0</td>\n",
       "      <td>0</td>\n",
       "      <td>1</td>\n",
       "      <td>0</td>\n",
       "    </tr>\n",
       "    <tr>\n",
       "      <th>4</th>\n",
       "      <td>1</td>\n",
       "      <td>0</td>\n",
       "      <td>0</td>\n",
       "      <td>0</td>\n",
       "      <td>0</td>\n",
       "    </tr>\n",
       "    <tr>\n",
       "      <th>...</th>\n",
       "      <td>...</td>\n",
       "      <td>...</td>\n",
       "      <td>...</td>\n",
       "      <td>...</td>\n",
       "      <td>...</td>\n",
       "    </tr>\n",
       "    <tr>\n",
       "      <th>10678</th>\n",
       "      <td>0</td>\n",
       "      <td>0</td>\n",
       "      <td>0</td>\n",
       "      <td>1</td>\n",
       "      <td>0</td>\n",
       "    </tr>\n",
       "    <tr>\n",
       "      <th>10679</th>\n",
       "      <td>0</td>\n",
       "      <td>0</td>\n",
       "      <td>0</td>\n",
       "      <td>1</td>\n",
       "      <td>0</td>\n",
       "    </tr>\n",
       "    <tr>\n",
       "      <th>10680</th>\n",
       "      <td>1</td>\n",
       "      <td>0</td>\n",
       "      <td>0</td>\n",
       "      <td>0</td>\n",
       "      <td>0</td>\n",
       "    </tr>\n",
       "    <tr>\n",
       "      <th>10681</th>\n",
       "      <td>1</td>\n",
       "      <td>0</td>\n",
       "      <td>0</td>\n",
       "      <td>0</td>\n",
       "      <td>0</td>\n",
       "    </tr>\n",
       "    <tr>\n",
       "      <th>10682</th>\n",
       "      <td>0</td>\n",
       "      <td>0</td>\n",
       "      <td>1</td>\n",
       "      <td>0</td>\n",
       "      <td>0</td>\n",
       "    </tr>\n",
       "  </tbody>\n",
       "</table>\n",
       "<p>10680 rows × 5 columns</p>\n",
       "</div>"
      ],
      "text/plain": [
       "       0  1  2  3  4\n",
       "0      1  0  0  0  0\n",
       "1      0  0  0  1  0\n",
       "2      0  0  1  0  0\n",
       "3      0  0  0  1  0\n",
       "4      1  0  0  0  0\n",
       "...   .. .. .. .. ..\n",
       "10678  0  0  0  1  0\n",
       "10679  0  0  0  1  0\n",
       "10680  1  0  0  0  0\n",
       "10681  1  0  0  0  0\n",
       "10682  0  0  1  0  0\n",
       "\n",
       "[10680 rows x 5 columns]"
      ]
     },
     "execution_count": 90,
     "metadata": {},
     "output_type": "execute_result"
    }
   ],
   "source": [
    "pd.get_dummies(final_df['Source'])"
   ]
  },
  {
   "cell_type": "code",
   "execution_count": 91,
   "id": "fa3a38f5",
   "metadata": {},
   "outputs": [
    {
     "data": {
      "text/html": [
       "<div>\n",
       "<style scoped>\n",
       "    .dataframe tbody tr th:only-of-type {\n",
       "        vertical-align: middle;\n",
       "    }\n",
       "\n",
       "    .dataframe tbody tr th {\n",
       "        vertical-align: top;\n",
       "    }\n",
       "\n",
       "    .dataframe thead th {\n",
       "        text-align: right;\n",
       "    }\n",
       "</style>\n",
       "<table border=\"1\" class=\"dataframe\">\n",
       "  <thead>\n",
       "    <tr style=\"text-align: right;\">\n",
       "      <th></th>\n",
       "      <th>0</th>\n",
       "      <th>1</th>\n",
       "      <th>2</th>\n",
       "      <th>3</th>\n",
       "      <th>4</th>\n",
       "      <th>5</th>\n",
       "    </tr>\n",
       "  </thead>\n",
       "  <tbody>\n",
       "    <tr>\n",
       "      <th>0</th>\n",
       "      <td>0</td>\n",
       "      <td>0</td>\n",
       "      <td>0</td>\n",
       "      <td>0</td>\n",
       "      <td>0</td>\n",
       "      <td>1</td>\n",
       "    </tr>\n",
       "    <tr>\n",
       "      <th>1</th>\n",
       "      <td>1</td>\n",
       "      <td>0</td>\n",
       "      <td>0</td>\n",
       "      <td>0</td>\n",
       "      <td>0</td>\n",
       "      <td>0</td>\n",
       "    </tr>\n",
       "    <tr>\n",
       "      <th>2</th>\n",
       "      <td>0</td>\n",
       "      <td>1</td>\n",
       "      <td>0</td>\n",
       "      <td>0</td>\n",
       "      <td>0</td>\n",
       "      <td>0</td>\n",
       "    </tr>\n",
       "    <tr>\n",
       "      <th>3</th>\n",
       "      <td>1</td>\n",
       "      <td>0</td>\n",
       "      <td>0</td>\n",
       "      <td>0</td>\n",
       "      <td>0</td>\n",
       "      <td>0</td>\n",
       "    </tr>\n",
       "    <tr>\n",
       "      <th>4</th>\n",
       "      <td>0</td>\n",
       "      <td>0</td>\n",
       "      <td>0</td>\n",
       "      <td>0</td>\n",
       "      <td>0</td>\n",
       "      <td>1</td>\n",
       "    </tr>\n",
       "    <tr>\n",
       "      <th>...</th>\n",
       "      <td>...</td>\n",
       "      <td>...</td>\n",
       "      <td>...</td>\n",
       "      <td>...</td>\n",
       "      <td>...</td>\n",
       "      <td>...</td>\n",
       "    </tr>\n",
       "    <tr>\n",
       "      <th>10678</th>\n",
       "      <td>1</td>\n",
       "      <td>0</td>\n",
       "      <td>0</td>\n",
       "      <td>0</td>\n",
       "      <td>0</td>\n",
       "      <td>0</td>\n",
       "    </tr>\n",
       "    <tr>\n",
       "      <th>10679</th>\n",
       "      <td>1</td>\n",
       "      <td>0</td>\n",
       "      <td>0</td>\n",
       "      <td>0</td>\n",
       "      <td>0</td>\n",
       "      <td>0</td>\n",
       "    </tr>\n",
       "    <tr>\n",
       "      <th>10680</th>\n",
       "      <td>0</td>\n",
       "      <td>0</td>\n",
       "      <td>1</td>\n",
       "      <td>0</td>\n",
       "      <td>0</td>\n",
       "      <td>0</td>\n",
       "    </tr>\n",
       "    <tr>\n",
       "      <th>10681</th>\n",
       "      <td>0</td>\n",
       "      <td>0</td>\n",
       "      <td>0</td>\n",
       "      <td>0</td>\n",
       "      <td>0</td>\n",
       "      <td>1</td>\n",
       "    </tr>\n",
       "    <tr>\n",
       "      <th>10682</th>\n",
       "      <td>0</td>\n",
       "      <td>1</td>\n",
       "      <td>0</td>\n",
       "      <td>0</td>\n",
       "      <td>0</td>\n",
       "      <td>0</td>\n",
       "    </tr>\n",
       "  </tbody>\n",
       "</table>\n",
       "<p>10680 rows × 6 columns</p>\n",
       "</div>"
      ],
      "text/plain": [
       "       0  1  2  3  4  5\n",
       "0      0  0  0  0  0  1\n",
       "1      1  0  0  0  0  0\n",
       "2      0  1  0  0  0  0\n",
       "3      1  0  0  0  0  0\n",
       "4      0  0  0  0  0  1\n",
       "...   .. .. .. .. .. ..\n",
       "10678  1  0  0  0  0  0\n",
       "10679  1  0  0  0  0  0\n",
       "10680  0  0  1  0  0  0\n",
       "10681  0  0  0  0  0  1\n",
       "10682  0  1  0  0  0  0\n",
       "\n",
       "[10680 rows x 6 columns]"
      ]
     },
     "execution_count": 91,
     "metadata": {},
     "output_type": "execute_result"
    }
   ],
   "source": [
    "pd.get_dummies(final_df['Destination'])"
   ]
  },
  {
   "cell_type": "code",
   "execution_count": 92,
   "id": "c1edb1fb",
   "metadata": {},
   "outputs": [
    {
     "data": {
      "text/html": [
       "<div>\n",
       "<style scoped>\n",
       "    .dataframe tbody tr th:only-of-type {\n",
       "        vertical-align: middle;\n",
       "    }\n",
       "\n",
       "    .dataframe tbody tr th {\n",
       "        vertical-align: top;\n",
       "    }\n",
       "\n",
       "    .dataframe thead th {\n",
       "        text-align: right;\n",
       "    }\n",
       "</style>\n",
       "<table border=\"1\" class=\"dataframe\">\n",
       "  <thead>\n",
       "    <tr style=\"text-align: right;\">\n",
       "      <th></th>\n",
       "      <th>0</th>\n",
       "      <th>1</th>\n",
       "      <th>2</th>\n",
       "      <th>3</th>\n",
       "      <th>4</th>\n",
       "      <th>5</th>\n",
       "      <th>6</th>\n",
       "      <th>7</th>\n",
       "      <th>8</th>\n",
       "      <th>9</th>\n",
       "    </tr>\n",
       "  </thead>\n",
       "  <tbody>\n",
       "    <tr>\n",
       "      <th>0</th>\n",
       "      <td>0</td>\n",
       "      <td>0</td>\n",
       "      <td>0</td>\n",
       "      <td>0</td>\n",
       "      <td>0</td>\n",
       "      <td>0</td>\n",
       "      <td>0</td>\n",
       "      <td>0</td>\n",
       "      <td>1</td>\n",
       "      <td>0</td>\n",
       "    </tr>\n",
       "    <tr>\n",
       "      <th>1</th>\n",
       "      <td>0</td>\n",
       "      <td>0</td>\n",
       "      <td>0</td>\n",
       "      <td>0</td>\n",
       "      <td>0</td>\n",
       "      <td>0</td>\n",
       "      <td>0</td>\n",
       "      <td>0</td>\n",
       "      <td>1</td>\n",
       "      <td>0</td>\n",
       "    </tr>\n",
       "    <tr>\n",
       "      <th>2</th>\n",
       "      <td>0</td>\n",
       "      <td>0</td>\n",
       "      <td>0</td>\n",
       "      <td>0</td>\n",
       "      <td>0</td>\n",
       "      <td>0</td>\n",
       "      <td>0</td>\n",
       "      <td>0</td>\n",
       "      <td>1</td>\n",
       "      <td>0</td>\n",
       "    </tr>\n",
       "    <tr>\n",
       "      <th>3</th>\n",
       "      <td>0</td>\n",
       "      <td>0</td>\n",
       "      <td>0</td>\n",
       "      <td>0</td>\n",
       "      <td>0</td>\n",
       "      <td>0</td>\n",
       "      <td>0</td>\n",
       "      <td>0</td>\n",
       "      <td>1</td>\n",
       "      <td>0</td>\n",
       "    </tr>\n",
       "    <tr>\n",
       "      <th>4</th>\n",
       "      <td>0</td>\n",
       "      <td>0</td>\n",
       "      <td>0</td>\n",
       "      <td>0</td>\n",
       "      <td>0</td>\n",
       "      <td>0</td>\n",
       "      <td>0</td>\n",
       "      <td>0</td>\n",
       "      <td>1</td>\n",
       "      <td>0</td>\n",
       "    </tr>\n",
       "    <tr>\n",
       "      <th>...</th>\n",
       "      <td>...</td>\n",
       "      <td>...</td>\n",
       "      <td>...</td>\n",
       "      <td>...</td>\n",
       "      <td>...</td>\n",
       "      <td>...</td>\n",
       "      <td>...</td>\n",
       "      <td>...</td>\n",
       "      <td>...</td>\n",
       "      <td>...</td>\n",
       "    </tr>\n",
       "    <tr>\n",
       "      <th>10678</th>\n",
       "      <td>0</td>\n",
       "      <td>0</td>\n",
       "      <td>0</td>\n",
       "      <td>0</td>\n",
       "      <td>0</td>\n",
       "      <td>0</td>\n",
       "      <td>0</td>\n",
       "      <td>0</td>\n",
       "      <td>1</td>\n",
       "      <td>0</td>\n",
       "    </tr>\n",
       "    <tr>\n",
       "      <th>10679</th>\n",
       "      <td>0</td>\n",
       "      <td>0</td>\n",
       "      <td>0</td>\n",
       "      <td>0</td>\n",
       "      <td>0</td>\n",
       "      <td>0</td>\n",
       "      <td>0</td>\n",
       "      <td>0</td>\n",
       "      <td>1</td>\n",
       "      <td>0</td>\n",
       "    </tr>\n",
       "    <tr>\n",
       "      <th>10680</th>\n",
       "      <td>0</td>\n",
       "      <td>0</td>\n",
       "      <td>0</td>\n",
       "      <td>0</td>\n",
       "      <td>0</td>\n",
       "      <td>0</td>\n",
       "      <td>0</td>\n",
       "      <td>0</td>\n",
       "      <td>1</td>\n",
       "      <td>0</td>\n",
       "    </tr>\n",
       "    <tr>\n",
       "      <th>10681</th>\n",
       "      <td>0</td>\n",
       "      <td>0</td>\n",
       "      <td>0</td>\n",
       "      <td>0</td>\n",
       "      <td>0</td>\n",
       "      <td>0</td>\n",
       "      <td>0</td>\n",
       "      <td>0</td>\n",
       "      <td>1</td>\n",
       "      <td>0</td>\n",
       "    </tr>\n",
       "    <tr>\n",
       "      <th>10682</th>\n",
       "      <td>0</td>\n",
       "      <td>0</td>\n",
       "      <td>0</td>\n",
       "      <td>0</td>\n",
       "      <td>0</td>\n",
       "      <td>0</td>\n",
       "      <td>0</td>\n",
       "      <td>0</td>\n",
       "      <td>1</td>\n",
       "      <td>0</td>\n",
       "    </tr>\n",
       "  </tbody>\n",
       "</table>\n",
       "<p>10680 rows × 10 columns</p>\n",
       "</div>"
      ],
      "text/plain": [
       "       0  1  2  3  4  5  6  7  8  9\n",
       "0      0  0  0  0  0  0  0  0  1  0\n",
       "1      0  0  0  0  0  0  0  0  1  0\n",
       "2      0  0  0  0  0  0  0  0  1  0\n",
       "3      0  0  0  0  0  0  0  0  1  0\n",
       "4      0  0  0  0  0  0  0  0  1  0\n",
       "...   .. .. .. .. .. .. .. .. .. ..\n",
       "10678  0  0  0  0  0  0  0  0  1  0\n",
       "10679  0  0  0  0  0  0  0  0  1  0\n",
       "10680  0  0  0  0  0  0  0  0  1  0\n",
       "10681  0  0  0  0  0  0  0  0  1  0\n",
       "10682  0  0  0  0  0  0  0  0  1  0\n",
       "\n",
       "[10680 rows x 10 columns]"
      ]
     },
     "execution_count": 92,
     "metadata": {},
     "output_type": "execute_result"
    }
   ],
   "source": [
    "pd.get_dummies(final_df['Additional_Info'])"
   ]
  },
  {
   "cell_type": "code",
   "execution_count": 93,
   "id": "e0460e2f",
   "metadata": {
    "scrolled": false
   },
   "outputs": [],
   "source": [
    "final_df=pd.get_dummies(final_df,columns=[\"Airline\", \"Source\", \"Destination\"] ,drop_first = True)"
   ]
  },
  {
   "cell_type": "code",
   "execution_count": 94,
   "id": "bd6500a7",
   "metadata": {},
   "outputs": [
    {
     "data": {
      "text/html": [
       "<div>\n",
       "<style scoped>\n",
       "    .dataframe tbody tr th:only-of-type {\n",
       "        vertical-align: middle;\n",
       "    }\n",
       "\n",
       "    .dataframe tbody tr th {\n",
       "        vertical-align: top;\n",
       "    }\n",
       "\n",
       "    .dataframe thead th {\n",
       "        text-align: right;\n",
       "    }\n",
       "</style>\n",
       "<table border=\"1\" class=\"dataframe\">\n",
       "  <thead>\n",
       "    <tr style=\"text-align: right;\">\n",
       "      <th></th>\n",
       "      <th>Duration_Mins</th>\n",
       "      <th>Total_Stops</th>\n",
       "      <th>Additional_Info</th>\n",
       "      <th>Price</th>\n",
       "      <th>Date</th>\n",
       "      <th>Month</th>\n",
       "      <th>Year</th>\n",
       "      <th>Arrival_hour</th>\n",
       "      <th>Arrival_min</th>\n",
       "      <th>Dept_hour</th>\n",
       "      <th>...</th>\n",
       "      <th>Airline_11</th>\n",
       "      <th>Source_1</th>\n",
       "      <th>Source_2</th>\n",
       "      <th>Source_3</th>\n",
       "      <th>Source_4</th>\n",
       "      <th>Destination_1</th>\n",
       "      <th>Destination_2</th>\n",
       "      <th>Destination_3</th>\n",
       "      <th>Destination_4</th>\n",
       "      <th>Destination_5</th>\n",
       "    </tr>\n",
       "  </thead>\n",
       "  <tbody>\n",
       "    <tr>\n",
       "      <th>0</th>\n",
       "      <td>170</td>\n",
       "      <td>0.0</td>\n",
       "      <td>8</td>\n",
       "      <td>3897.0</td>\n",
       "      <td>24</td>\n",
       "      <td>3</td>\n",
       "      <td>2019</td>\n",
       "      <td>1</td>\n",
       "      <td>10</td>\n",
       "      <td>22</td>\n",
       "      <td>...</td>\n",
       "      <td>0</td>\n",
       "      <td>0</td>\n",
       "      <td>0</td>\n",
       "      <td>0</td>\n",
       "      <td>0</td>\n",
       "      <td>0</td>\n",
       "      <td>0</td>\n",
       "      <td>0</td>\n",
       "      <td>0</td>\n",
       "      <td>1</td>\n",
       "    </tr>\n",
       "    <tr>\n",
       "      <th>1</th>\n",
       "      <td>445</td>\n",
       "      <td>2.0</td>\n",
       "      <td>8</td>\n",
       "      <td>7662.0</td>\n",
       "      <td>1</td>\n",
       "      <td>5</td>\n",
       "      <td>2019</td>\n",
       "      <td>13</td>\n",
       "      <td>15</td>\n",
       "      <td>5</td>\n",
       "      <td>...</td>\n",
       "      <td>0</td>\n",
       "      <td>0</td>\n",
       "      <td>0</td>\n",
       "      <td>1</td>\n",
       "      <td>0</td>\n",
       "      <td>0</td>\n",
       "      <td>0</td>\n",
       "      <td>0</td>\n",
       "      <td>0</td>\n",
       "      <td>0</td>\n",
       "    </tr>\n",
       "    <tr>\n",
       "      <th>2</th>\n",
       "      <td>1140</td>\n",
       "      <td>2.0</td>\n",
       "      <td>8</td>\n",
       "      <td>13882.0</td>\n",
       "      <td>9</td>\n",
       "      <td>6</td>\n",
       "      <td>2019</td>\n",
       "      <td>4</td>\n",
       "      <td>25</td>\n",
       "      <td>9</td>\n",
       "      <td>...</td>\n",
       "      <td>0</td>\n",
       "      <td>0</td>\n",
       "      <td>1</td>\n",
       "      <td>0</td>\n",
       "      <td>0</td>\n",
       "      <td>1</td>\n",
       "      <td>0</td>\n",
       "      <td>0</td>\n",
       "      <td>0</td>\n",
       "      <td>0</td>\n",
       "    </tr>\n",
       "    <tr>\n",
       "      <th>3</th>\n",
       "      <td>325</td>\n",
       "      <td>1.0</td>\n",
       "      <td>8</td>\n",
       "      <td>6218.0</td>\n",
       "      <td>12</td>\n",
       "      <td>5</td>\n",
       "      <td>2019</td>\n",
       "      <td>23</td>\n",
       "      <td>30</td>\n",
       "      <td>18</td>\n",
       "      <td>...</td>\n",
       "      <td>0</td>\n",
       "      <td>0</td>\n",
       "      <td>0</td>\n",
       "      <td>1</td>\n",
       "      <td>0</td>\n",
       "      <td>0</td>\n",
       "      <td>0</td>\n",
       "      <td>0</td>\n",
       "      <td>0</td>\n",
       "      <td>0</td>\n",
       "    </tr>\n",
       "    <tr>\n",
       "      <th>4</th>\n",
       "      <td>285</td>\n",
       "      <td>1.0</td>\n",
       "      <td>8</td>\n",
       "      <td>13302.0</td>\n",
       "      <td>1</td>\n",
       "      <td>3</td>\n",
       "      <td>2019</td>\n",
       "      <td>21</td>\n",
       "      <td>35</td>\n",
       "      <td>16</td>\n",
       "      <td>...</td>\n",
       "      <td>0</td>\n",
       "      <td>0</td>\n",
       "      <td>0</td>\n",
       "      <td>0</td>\n",
       "      <td>0</td>\n",
       "      <td>0</td>\n",
       "      <td>0</td>\n",
       "      <td>0</td>\n",
       "      <td>0</td>\n",
       "      <td>1</td>\n",
       "    </tr>\n",
       "  </tbody>\n",
       "</table>\n",
       "<p>5 rows × 33 columns</p>\n",
       "</div>"
      ],
      "text/plain": [
       "   Duration_Mins  Total_Stops  Additional_Info    Price  Date  Month  Year  \\\n",
       "0            170          0.0                8   3897.0    24      3  2019   \n",
       "1            445          2.0                8   7662.0     1      5  2019   \n",
       "2           1140          2.0                8  13882.0     9      6  2019   \n",
       "3            325          1.0                8   6218.0    12      5  2019   \n",
       "4            285          1.0                8  13302.0     1      3  2019   \n",
       "\n",
       "   Arrival_hour  Arrival_min  Dept_hour  ...  Airline_11  Source_1  Source_2  \\\n",
       "0             1           10         22  ...           0         0         0   \n",
       "1            13           15          5  ...           0         0         0   \n",
       "2             4           25          9  ...           0         0         1   \n",
       "3            23           30         18  ...           0         0         0   \n",
       "4            21           35         16  ...           0         0         0   \n",
       "\n",
       "   Source_3  Source_4  Destination_1  Destination_2  Destination_3  \\\n",
       "0         0         0              0              0              0   \n",
       "1         1         0              0              0              0   \n",
       "2         0         0              1              0              0   \n",
       "3         1         0              0              0              0   \n",
       "4         0         0              0              0              0   \n",
       "\n",
       "   Destination_4  Destination_5  \n",
       "0              0              1  \n",
       "1              0              0  \n",
       "2              0              0  \n",
       "3              0              0  \n",
       "4              0              1  \n",
       "\n",
       "[5 rows x 33 columns]"
      ]
     },
     "execution_count": 94,
     "metadata": {},
     "output_type": "execute_result"
    }
   ],
   "source": [
    "final_df.head()"
   ]
  },
  {
   "cell_type": "code",
   "execution_count": 95,
   "id": "614bde08",
   "metadata": {
    "scrolled": true
   },
   "outputs": [
    {
     "data": {
      "text/plain": [
       "(10680, 33)"
      ]
     },
     "execution_count": 95,
     "metadata": {},
     "output_type": "execute_result"
    }
   ],
   "source": [
    "final_df.shape "
   ]
  },
  {
   "cell_type": "code",
   "execution_count": 96,
   "id": "c7ed95de",
   "metadata": {},
   "outputs": [],
   "source": [
    "X = final_df.drop(columns=['Price'], axis=1)\n",
    "y = final_df.Price"
   ]
  },
  {
   "cell_type": "markdown",
   "id": "b5c1e171",
   "metadata": {},
   "source": [
    "# Split Train Test"
   ]
  },
  {
   "cell_type": "code",
   "execution_count": 97,
   "id": "34fe69bc",
   "metadata": {},
   "outputs": [],
   "source": [
    "from sklearn.model_selection import train_test_split\n",
    "from sklearn.metrics import mean_absolute_error"
   ]
  },
  {
   "cell_type": "code",
   "execution_count": 98,
   "id": "bab036a1",
   "metadata": {},
   "outputs": [],
   "source": [
    "seed=42\n",
    " \n",
    "X_train, X_test, y_train, y_test = train_test_split(X, y.values, test_size=0.30,random_state=seed)"
   ]
  },
  {
   "cell_type": "markdown",
   "id": "2d99542e",
   "metadata": {},
   "source": [
    "# Random Forest Classfier"
   ]
  },
  {
   "cell_type": "code",
   "execution_count": 99,
   "id": "fb092e31",
   "metadata": {},
   "outputs": [],
   "source": [
    "from sklearn.ensemble import RandomForestRegressor as rf"
   ]
  },
  {
   "cell_type": "code",
   "execution_count": 100,
   "id": "b461ac5e",
   "metadata": {},
   "outputs": [
    {
     "name": "stdout",
     "output_type": "stream",
     "text": [
      "RandomForestRegressor(max_depth=5, n_estimators=20, random_state=12)\n"
     ]
    }
   ],
   "source": [
    "model=rf(n_estimators=20, random_state=12,max_depth=5)\n",
    "model.fit(X_train, y_train)\n",
    "print(model)"
   ]
  },
  {
   "cell_type": "code",
   "execution_count": 101,
   "id": "59d6d39a",
   "metadata": {},
   "outputs": [
    {
     "name": "stdout",
     "output_type": "stream",
     "text": [
      "[10308.06329685  9413.24258959 11882.13878646 ...  8059.2570079\n",
      "  5414.3003756  14152.92924377]\n",
      "[15058.  7832. 14424. ...  4227.  8040. 16655.]\n"
     ]
    }
   ],
   "source": [
    "y_pr = model.predict(X_test)\n",
    "print(y_pr)\n",
    "print(y_test)\n",
    "#f=metrics.accuracy_score(y_test, y_pr)*100\n",
    "#print(\"Accuracy:\",f)\n",
    "#print(\"Accuracy:\",metrics.accuracy_score(y_ts, y_pr)*100)"
   ]
  },
  {
   "cell_type": "code",
   "execution_count": 102,
   "id": "b24ce66a",
   "metadata": {},
   "outputs": [
    {
     "name": "stdout",
     "output_type": "stream",
     "text": [
      "Decision Tree:\n",
      "Training MAE score: 0.74\n",
      "Test MAE score: 0.76\n",
      "Test MAE score: 1549\n"
     ]
    }
   ],
   "source": [
    "train_score_rf = model.score(X_train, y_train)\n",
    "test_score_rf = model.score(X_test, y_test)\n",
    "\n",
    "prediction_rf = model.predict(X_test)\n",
    "mae_rf = round(mean_absolute_error(y_test, prediction_rf))\n",
    "\n",
    "print(\"Decision Tree:\")\n",
    "print(\"Training MAE score:\", round(train_score_rf, 2))\n",
    "print(\"Test MAE score:\", round(test_score_rf, 2))\n",
    "print(\"Test MAE score:\", mae_rf)\n"
   ]
  },
  {
   "cell_type": "markdown",
   "id": "0d0fce1b",
   "metadata": {},
   "source": [
    "# Decision Tree Classifier"
   ]
  },
  {
   "cell_type": "code",
   "execution_count": 103,
   "id": "df03d293",
   "metadata": {},
   "outputs": [],
   "source": [
    "from sklearn.tree import DecisionTreeRegressor as dt"
   ]
  },
  {
   "cell_type": "code",
   "execution_count": 104,
   "id": "ca81bde8",
   "metadata": {},
   "outputs": [
    {
     "name": "stdout",
     "output_type": "stream",
     "text": [
      "DecisionTreeRegressor()\n"
     ]
    }
   ],
   "source": [
    "model=dt()\n",
    "model.fit(X_train, y_train)\n",
    "print(model)"
   ]
  },
  {
   "cell_type": "code",
   "execution_count": 105,
   "id": "370cc919",
   "metadata": {},
   "outputs": [
    {
     "name": "stdout",
     "output_type": "stream",
     "text": [
      "[14848.  7832. 14109. ...  7893.  8040. 16840.]\n",
      "[15058.  7832. 14424. ...  4227.  8040. 16655.]\n"
     ]
    }
   ],
   "source": [
    "y_pr = model.predict(X_test)\n",
    "print(y_pr)\n",
    "print(y_test)"
   ]
  },
  {
   "cell_type": "code",
   "execution_count": 106,
   "id": "90f4254c",
   "metadata": {
    "scrolled": true
   },
   "outputs": [
    {
     "name": "stdout",
     "output_type": "stream",
     "text": [
      "Decision Tree:\n",
      "Training MAE score: 1.0\n",
      "Test MAE score: 0.83\n",
      "Test MAE score: 806\n"
     ]
    }
   ],
   "source": [
    "train_score_dt = model.score(X_train, y_train)\n",
    "test_score_dt = model.score(X_test, y_test)\n",
    "\n",
    "prediction_dt = model.predict(X_test)\n",
    "mae_dt = round(mean_absolute_error(y_test, prediction_dt))\n",
    "\n",
    "print(\"Decision Tree:\")\n",
    "print(\"Training MAE score:\", round(train_score_dt, 2))\n",
    "print(\"Test MAE score:\", round(test_score_dt, 2))\n",
    "print(\"Test MAE score:\", mae_dt)"
   ]
  },
  {
   "cell_type": "markdown",
   "id": "aab0b637",
   "metadata": {},
   "source": [
    "# XGBRegressor"
   ]
  },
  {
   "cell_type": "code",
   "execution_count": 107,
   "id": "e8f2a8ed",
   "metadata": {},
   "outputs": [],
   "source": [
    "from xgboost import XGBRegressor"
   ]
  },
  {
   "cell_type": "code",
   "execution_count": 108,
   "id": "de546fbb",
   "metadata": {},
   "outputs": [
    {
     "name": "stdout",
     "output_type": "stream",
     "text": [
      "XGBRegressor(base_score=None, booster=None, callbacks=None,\n",
      "             colsample_bylevel=None, colsample_bynode=None,\n",
      "             colsample_bytree=None, early_stopping_rounds=None,\n",
      "             enable_categorical=False, eval_metric=None, feature_types=None,\n",
      "             gamma=None, gpu_id=None, grow_policy=None, importance_type=None,\n",
      "             interaction_constraints=None, learning_rate=None, max_bin=None,\n",
      "             max_cat_threshold=None, max_cat_to_onehot=None,\n",
      "             max_delta_step=None, max_depth=None, max_leaves=None,\n",
      "             min_child_weight=None, missing=nan, monotone_constraints=None,\n",
      "             n_estimators=100, n_jobs=None, num_parallel_tree=None,\n",
      "             predictor=None, random_state=None, ...)\n"
     ]
    }
   ],
   "source": [
    "model=XGBRegressor()\n",
    "model.fit(X_train, y_train)\n",
    "print(model)"
   ]
  },
  {
   "cell_type": "code",
   "execution_count": 109,
   "id": "7a57ddf1",
   "metadata": {},
   "outputs": [
    {
     "name": "stdout",
     "output_type": "stream",
     "text": [
      "[14460.153   7319.3    13907.413  ...  5903.757   7408.2407 16978.553 ]\n",
      "[15058.  7832. 14424. ...  4227.  8040. 16655.]\n"
     ]
    }
   ],
   "source": [
    "y_pr = model.predict(X_test)\n",
    "print(y_pr)\n",
    "print(y_test)"
   ]
  },
  {
   "cell_type": "code",
   "execution_count": 110,
   "id": "2cf1bd09",
   "metadata": {},
   "outputs": [
    {
     "name": "stdout",
     "output_type": "stream",
     "text": [
      "XGBRegressor\n",
      "Training MAE score: 0.97\n",
      "Test MAE score: 0.92\n",
      "Test MAE score: 764\n"
     ]
    }
   ],
   "source": [
    "train_score_xgb = model.score(X_train, y_train)\n",
    "test_score_xgb = model.score(X_test, y_test)\n",
    "\n",
    "prediction_xgb = model.predict(X_test)\n",
    "mae_xgb = round(mean_absolute_error(y_test, prediction_xgb))\n",
    "\n",
    "print(\"XGBRegressor\")\n",
    "print(\"Training MAE score:\", round(train_score_xgb, 2))\n",
    "print(\"Test MAE score:\", round(test_score_xgb, 2))\n",
    "print(\"Test MAE score:\", mae_xgb)"
   ]
  },
  {
   "cell_type": "code",
   "execution_count": 111,
   "id": "6d6bc05d",
   "metadata": {},
   "outputs": [
    {
     "data": {
      "text/plain": [
       "0.7401697662228316"
      ]
     },
     "execution_count": 111,
     "metadata": {},
     "output_type": "execute_result"
    }
   ],
   "source": [
    "train_score_rf"
   ]
  },
  {
   "cell_type": "code",
   "execution_count": 112,
   "id": "f26207f2",
   "metadata": {},
   "outputs": [
    {
     "data": {
      "text/html": [
       "<style type=\"text/css\">\n",
       "#T_8b245_row0_col0, #T_8b245_row0_col1, #T_8b245_row0_col2, #T_8b245_row1_col0, #T_8b245_row1_col1, #T_8b245_row1_col2, #T_8b245_row2_col0, #T_8b245_row2_col1, #T_8b245_row2_col2 {\n",
       "  background-color: lightblue;\n",
       "}\n",
       "</style>\n",
       "<table id=\"T_8b245\">\n",
       "  <thead>\n",
       "    <tr>\n",
       "      <th class=\"blank level0\" >&nbsp;</th>\n",
       "      <th id=\"T_8b245_level0_col0\" class=\"col_heading level0 col0\" >Train Score</th>\n",
       "      <th id=\"T_8b245_level0_col1\" class=\"col_heading level0 col1\" >Test Score</th>\n",
       "      <th id=\"T_8b245_level0_col2\" class=\"col_heading level0 col2\" >MAE</th>\n",
       "    </tr>\n",
       "  </thead>\n",
       "  <tbody>\n",
       "    <tr>\n",
       "      <th id=\"T_8b245_level0_row0\" class=\"row_heading level0 row0\" >Random forest</th>\n",
       "      <td id=\"T_8b245_row0_col0\" class=\"data row0 col0\" >0.740170</td>\n",
       "      <td id=\"T_8b245_row0_col1\" class=\"data row0 col1\" >0.759310</td>\n",
       "      <td id=\"T_8b245_row0_col2\" class=\"data row0 col2\" >1549</td>\n",
       "    </tr>\n",
       "    <tr>\n",
       "      <th id=\"T_8b245_level0_row1\" class=\"row_heading level0 row1\" >XGBoost</th>\n",
       "      <td id=\"T_8b245_row1_col0\" class=\"data row1 col0\" >0.972540</td>\n",
       "      <td id=\"T_8b245_row1_col1\" class=\"data row1 col1\" >0.919167</td>\n",
       "      <td id=\"T_8b245_row1_col2\" class=\"data row1 col2\" >764</td>\n",
       "    </tr>\n",
       "    <tr>\n",
       "      <th id=\"T_8b245_level0_row2\" class=\"row_heading level0 row2\" >Decision tree</th>\n",
       "      <td id=\"T_8b245_row2_col0\" class=\"data row2 col0\" >0.996298</td>\n",
       "      <td id=\"T_8b245_row2_col1\" class=\"data row2 col1\" >0.827685</td>\n",
       "      <td id=\"T_8b245_row2_col2\" class=\"data row2 col2\" >806</td>\n",
       "    </tr>\n",
       "  </tbody>\n",
       "</table>\n"
      ],
      "text/plain": [
       "<pandas.io.formats.style.Styler at 0x1fb7d512620>"
      ]
     },
     "execution_count": 112,
     "metadata": {},
     "output_type": "execute_result"
    }
   ],
   "source": [
    "import pandas as pd\n",
    "\n",
    "# Define a custom style function\n",
    "def simple_style(val):\n",
    "    return 'background-color: lightblue'\n",
    "\n",
    "# Create the models_score DataFrame\n",
    "models_score = pd.DataFrame({\n",
    "    'Train Score': [train_score_rf, train_score_xgb, train_score_dt],\n",
    "    'Test Score': [test_score_rf, test_score_xgb, test_score_dt],\n",
    "    'MAE': [mae_rf, mae_xgb, mae_dt]\n",
    "}, index=['Random forest', 'XGBoost', 'Decision tree'])\n",
    "\n",
    "# Apply the custom style to the DataFrame\n",
    "styled_models_score = models_score.style.applymap(simple_style)\n",
    "\n",
    "# Display the styled DataFrame\n",
    "styled_models_score"
   ]
  },
  {
   "cell_type": "code",
   "execution_count": 113,
   "id": "d80e201b",
   "metadata": {},
   "outputs": [
    {
     "data": {
      "image/png": "[encoded data removed]",
      "text/plain": [
       "<Figure size 1000x800 with 1 Axes>"
      ]
     },
     "metadata": {},
     "output_type": "display_data"
    }
   ],
   "source": [
    "fig, ax = plt.subplots(figsize=(10, 8))\n",
    "\n",
    "models_score_sorted = models_score.sort_values('MAE')\n",
    "sns.barplot(x='MAE', y=models_score_sorted.index,data=models_score_sorted, palette='Blues_r');\n",
    "\n",
    "# add the annotation\n",
    "ax.bar_label(ax.containers[-1], fmt='MAE:\\n%.2f', label_type='center')\n",
    "\n",
    "plt.title('Mean Absolute Error Comparison\\nMAE: Lower is Better')\n",
    "#plt.suptitle('Lower is Better')\n",
    "plt.show()"
   ]
  },
  {
   "cell_type": "code",
   "execution_count": 114,
   "id": "a3fded04",
   "metadata": {
    "scrolled": true
   },
   "outputs": [
    {
     "data": {
      "image/png": "[encoded data removed]",
      "text/plain": [
       "<Figure size 1000x800 with 1 Axes>"
      ]
     },
     "metadata": {},
     "output_type": "display_data"
    }
   ],
   "source": [
    "fig, ax = plt.subplots(figsize=(10, 8))\n",
    "\n",
    "models_score_sorted = models_score.sort_values('Test Score')\n",
    "\n",
    "sns.barplot(x='Test Score', y=models_score_sorted.index,data=models_score_sorted, palette='Blues');\n",
    "\n",
    "# add the annotation\n",
    "ax.bar_label(ax.containers[-1], fmt='R² score:\\n%.2f', label_type='center')\n",
    "\n",
    "plt.title('R² Score Comparison\\nR²: Higher is Better')\n",
    "#plt.suptitle('Lower is Better')\n",
    "plt.show()"
   ]
  },
  {
   "cell_type": "markdown",
   "id": "0f21d224",
   "metadata": {},
   "source": [
    "#### At the end I decided to use the XGBoost Model for the better Mean Absolute Error and  best R²."
   ]
  },
  {
   "cell_type": "markdown",
   "id": "b33c48a9",
   "metadata": {},
   "source": [
    "# Research Questions\n",
    "The aim of our study is to answer the below research questions:\n",
    "1. Does price vary with Airlines?"
   ]
  },
  {
   "cell_type": "code",
   "execution_count": 115,
   "id": "faf71504",
   "metadata": {
    "scrolled": false
   },
   "outputs": [
    {
     "data": {
      "image/png": "[encoded data removed]",
      "text/plain": [
       "<Figure size 1200x600 with 1 Axes>"
      ]
     },
     "metadata": {},
     "output_type": "display_data"
    }
   ],
   "source": [
    "import pandas as pd\n",
    "import matplotlib.pyplot as plt\n",
    "\n",
    "# Assuming you have a DataFrame with the given columns\n",
    "# Let's assume your DataFrame is named 'flight_data'\n",
    "\n",
    "# Create a bar plot to visualize the relationship between airlines and prices\n",
    "plt.figure(figsize=(12, 6))\n",
    "train_df.groupby('Airline')['Price'].mean().sort_values(ascending=False).plot(kind='bar',color=\"skyblue\")\n",
    "plt.title('Flight Prices by Airline')\n",
    "plt.xlabel('Airline')\n",
    "plt.ylabel('Average Price')\n",
    "plt.xticks(rotation=90)\n",
    "plt.show()\n"
   ]
  },
  {
   "cell_type": "markdown",
   "id": "6b3d41d5",
   "metadata": {},
   "source": [
    "## 2. How is the price affected when tickets are bought in just 1 or 2 days before departure?"
   ]
  },
  {
   "cell_type": "code",
   "execution_count": 116,
   "id": "e020cfc7",
   "metadata": {},
   "outputs": [
    {
     "name": "stdout",
     "output_type": "stream",
     "text": [
      "No data available for tickets bought 1-2 days before departure.\n"
     ]
    }
   ],
   "source": [
    "# Extract the 'Date_of_Journey' column and convert it to a datetime object\n",
    "train_df['Date_of_Journey'] = pd.to_datetime(train_df['Date_of_Journey'], format='%d/%m/%Y')\n",
    "\n",
    "# Calculate the number of days before departure\n",
    "train_df['Days_Before_Departure'] = (train_df['Date_of_Journey'] - pd.to_datetime('today')).dt.days\n",
    "\n",
    "# Filter data for tickets bought 1 and 2 days before departure\n",
    "last_two_days_data = train_df[train_df['Days_Before_Departure'].between(1, 2)]\n",
    "\n",
    "if not last_two_days_data.empty:\n",
    "    # Calculate the average ticket price for each case\n",
    "    average_prices = last_two_days_data.groupby('Days_Before_Departure')['Price'].mean()\n",
    "\n",
    "    # Create a line plot to visualize the average ticket prices\n",
    "    plt.figure(figsize=(8, 6))\n",
    "    average_prices.plot(kind='line', color='skyblue', marker='o', linestyle='-')\n",
    "    plt.title('Average Ticket Prices for Tickets Bought 1-2 Days Before Departure')\n",
    "    plt.xlabel('Days Before Departure')\n",
    "    plt.ylabel('Average Price')\n",
    "    plt.grid()\n",
    "    plt.show()\n",
    "else:\n",
    "    print(\"No data available for tickets bought 1-2 days before departure.\")\n"
   ]
  },
  {
   "cell_type": "markdown",
   "id": "72279f4e",
   "metadata": {},
   "source": [
    "## 3. Does ticket price change based on the departure time and arrival time?"
   ]
  },
  {
   "cell_type": "code",
   "execution_count": 117,
   "id": "fde81058",
   "metadata": {
    "scrolled": true
   },
   "outputs": [
    {
     "data": {
      "image/png": "[encoded data removed]",
      "text/plain": [
       "<Figure size 1200x600 with 1 Axes>"
      ]
     },
     "metadata": {},
     "output_type": "display_data"
    }
   ],
   "source": [
    "# Assuming you have a DataFrame with the given columns\n",
    "# Let's assume your DataFrame is named 'train_df'\n",
    "\n",
    "# Extract the 'Dep_Time' column and convert it to a datetime object\n",
    "train_df['Dep_Time'] = pd.to_datetime(train_df['Dep_Time'])\n",
    "\n",
    "# Extract the hour of the departure time\n",
    "train_df['Dep_Hour'] = train_df['Dep_Time'].dt.hour\n",
    "\n",
    "# Create a scatter plot to visualize the relationship between departure time and ticket prices\n",
    "plt.figure(figsize=(12, 6))\n",
    "plt.scatter(train_df['Dep_Hour'], train_df['Price'], c='skyblue', alpha=0.5)\n",
    "plt.title('Ticket Prices vs. Departure Time')\n",
    "plt.xlabel('Departure Hour')\n",
    "plt.ylabel('Ticket Price')\n",
    "plt.grid()\n",
    "plt.show()\n"
   ]
  },
  {
   "cell_type": "markdown",
   "id": "1657584d",
   "metadata": {},
   "source": [
    "## 4. How the price changes with change in Source and Destination?"
   ]
  },
  {
   "cell_type": "code",
   "execution_count": 118,
   "id": "db2bd09b",
   "metadata": {},
   "outputs": [
    {
     "data": {
      "image/png": "[encoded data removed]",
      "text/plain": [
       "<Figure size 1200x600 with 1 Axes>"
      ]
     },
     "metadata": {},
     "output_type": "display_data"
    }
   ],
   "source": [
    "# Create a bar plot to visualize the relationship between source-destination pairs and prices\n",
    "plt.figure(figsize=(12, 6))\n",
    "train_df['Source_Destination'] = train_df['Source'] + ' to ' + train_df['Destination']\n",
    "average_prices = train_df.groupby('Source_Destination')['Price'].mean().sort_values(ascending=False)\n",
    "average_prices.plot(kind='bar', color='skyblue')\n",
    "plt.title('Average Ticket Prices by Source-Destination Pairs')\n",
    "plt.xlabel('Source-Destination Pair')\n",
    "plt.ylabel('Average Price')\n",
    "plt.xticks(rotation=90)\n",
    "plt.show()\n"
   ]
  }
 ],
 "metadata": {
  "kernelspec": {
   "display_name": "Python 3 (ipykernel)",
   "language": "python",
   "name": "python3"
  },
  "language_info": {
   "codemirror_mode": {
    "name": "ipython",
    "version": 3
   },
   "file_extension": ".py",
   "mimetype": "text/x-python",
   "name": "python",
   "nbconvert_exporter": "python",
   "pygments_lexer": "ipython3",
   "version": "3.10.9"
  }
 },
 "nbformat": 4,
 "nbformat_minor": 5
}
